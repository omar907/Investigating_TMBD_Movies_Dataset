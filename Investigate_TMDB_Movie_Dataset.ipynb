{
 "cells": [
  {
   "cell_type": "markdown",
   "metadata": {},
   "source": [
    "# Project: Investigate TMDB Movie Dataset\n",
    "\n",
    "## Table of Contents\n",
    "<ul>\n",
    "<li><a href=\"#intro\">Introduction</a></li>\n",
    "<li><a href=\"#wrangling\">Data Wrangling</a></li>\n",
    "<li><a href=\"#eda\">Exploratory Data Analysis</a></li>\n",
    "<li><a href=\"#conclusions\">Conclusions</a></li>\n",
    "</ul>"
   ]
  },
  {
   "cell_type": "markdown",
   "metadata": {},
   "source": [
    "<a id='intro'></a>\n",
    "## Introduction\n",
    "\n",
    "> **TMDB movies dataset is a large data set that contains information about more than 10K movies produced from the year 1960 to the year 2015.**\n",
    "\n",
    "> **It's an interesting data because it gives us a lot of detailed features about those movies, for example original title, popularity_score, budget, revenue, director, cast, taglines, overviews, runtime, production company, release date/year, vote cout/average, genres, and some more. So, we can actually use a lot of interesting insights about those movies as we will see in the report.**\n",
    "\n",
    "> **To start investigating the data, we should ask some questions about to start cleaning and preparing the data to answer those questions. So, after my first look on the data, I choosed these 8 questions that I think anyone could ask about it when he hears about a movie data set.**\n",
    "\n",
    "> **These questions are:  \n",
    "1- Which genres are most popular from year to year?  \n",
    "2- Which combinations of genres are most popular from year to year?  \n",
    "3- What kinds of proerties are associated with movies that have high revenues?  \n",
    "4- Who are the top 10 production companies in terms of total earnings and the most popular movies produced in this dataset?  \n",
    "5- Who are the top 10 actors with the top popularity movies in this dataset?  \n",
    "6- Who are the top 10 directors with the top popularity movies in this dataset?     \n",
    "And the basic 2 questions that should be asked are:   \n",
    "7- Which are the Top 10 moives in terms of earnings in this dataset?  \n",
    "8- Which release year that has the best movies?**\n",
    "\n",
    "> **I hope that the answers to these questions give us a better intution about various features in this dataset**"
   ]
  },
  {
   "cell_type": "code",
   "execution_count": 1,
   "metadata": {},
   "outputs": [],
   "source": [
    "# Use this cell to set up import statements for all of the packages that you\n",
    "#   plan to use.\n",
    "import pandas as pd\n",
    "import numpy as np\n",
    "import seaborn as sns\n",
    "import matplotlib.pyplot as plt\n",
    "%matplotlib inline\n",
    "from IPython.display import clear_output"
   ]
  },
  {
   "cell_type": "markdown",
   "metadata": {},
   "source": [
    "<a id='wrangling'></a>\n",
    "## Data Wrangling\n",
    "\n",
    "> **In this section of the report, we will load in the data, check for general properties, cleanliness, and the important notes that should be taken into consideration about the data for better analysis.**\n",
    "\n",
    "### General Properties"
   ]
  },
  {
   "cell_type": "markdown",
   "metadata": {},
   "source": [
    "**Loading TMBD_movies dataset**"
   ]
  },
  {
   "cell_type": "code",
   "execution_count": 2,
   "metadata": {},
   "outputs": [
    {
     "name": "stdout",
     "output_type": "stream",
     "text": [
      "D:\\Machine Learning - Data Science\\Advanced Data Analysis FWD\\1.Introduction to Data Analysis\\Investigating TMBD\n"
     ]
    },
    {
     "data": {
      "text/html": [
       "<div>\n",
       "<style scoped>\n",
       "    .dataframe tbody tr th:only-of-type {\n",
       "        vertical-align: middle;\n",
       "    }\n",
       "\n",
       "    .dataframe tbody tr th {\n",
       "        vertical-align: top;\n",
       "    }\n",
       "\n",
       "    .dataframe thead th {\n",
       "        text-align: right;\n",
       "    }\n",
       "</style>\n",
       "<table border=\"1\" class=\"dataframe\">\n",
       "  <thead>\n",
       "    <tr style=\"text-align: right;\">\n",
       "      <th></th>\n",
       "      <th>id</th>\n",
       "      <th>imdb_id</th>\n",
       "      <th>popularity</th>\n",
       "      <th>budget</th>\n",
       "      <th>revenue</th>\n",
       "      <th>original_title</th>\n",
       "      <th>cast</th>\n",
       "      <th>homepage</th>\n",
       "      <th>director</th>\n",
       "      <th>tagline</th>\n",
       "      <th>...</th>\n",
       "      <th>overview</th>\n",
       "      <th>runtime</th>\n",
       "      <th>genres</th>\n",
       "      <th>production_companies</th>\n",
       "      <th>release_date</th>\n",
       "      <th>vote_count</th>\n",
       "      <th>vote_average</th>\n",
       "      <th>release_year</th>\n",
       "      <th>budget_adj</th>\n",
       "      <th>revenue_adj</th>\n",
       "    </tr>\n",
       "  </thead>\n",
       "  <tbody>\n",
       "    <tr>\n",
       "      <th>0</th>\n",
       "      <td>135397</td>\n",
       "      <td>tt0369610</td>\n",
       "      <td>32.985763</td>\n",
       "      <td>150000000</td>\n",
       "      <td>1513528810</td>\n",
       "      <td>Jurassic World</td>\n",
       "      <td>Chris Pratt|Bryce Dallas Howard|Irrfan Khan|Vi...</td>\n",
       "      <td>http://www.jurassicworld.com/</td>\n",
       "      <td>Colin Trevorrow</td>\n",
       "      <td>The park is open.</td>\n",
       "      <td>...</td>\n",
       "      <td>Twenty-two years after the events of Jurassic ...</td>\n",
       "      <td>124</td>\n",
       "      <td>Action|Adventure|Science Fiction|Thriller</td>\n",
       "      <td>Universal Studios|Amblin Entertainment|Legenda...</td>\n",
       "      <td>6/9/15</td>\n",
       "      <td>5562</td>\n",
       "      <td>6.5</td>\n",
       "      <td>2015</td>\n",
       "      <td>1.379999e+08</td>\n",
       "      <td>1.392446e+09</td>\n",
       "    </tr>\n",
       "    <tr>\n",
       "      <th>1</th>\n",
       "      <td>76341</td>\n",
       "      <td>tt1392190</td>\n",
       "      <td>28.419936</td>\n",
       "      <td>150000000</td>\n",
       "      <td>378436354</td>\n",
       "      <td>Mad Max: Fury Road</td>\n",
       "      <td>Tom Hardy|Charlize Theron|Hugh Keays-Byrne|Nic...</td>\n",
       "      <td>http://www.madmaxmovie.com/</td>\n",
       "      <td>George Miller</td>\n",
       "      <td>What a Lovely Day.</td>\n",
       "      <td>...</td>\n",
       "      <td>An apocalyptic story set in the furthest reach...</td>\n",
       "      <td>120</td>\n",
       "      <td>Action|Adventure|Science Fiction|Thriller</td>\n",
       "      <td>Village Roadshow Pictures|Kennedy Miller Produ...</td>\n",
       "      <td>5/13/15</td>\n",
       "      <td>6185</td>\n",
       "      <td>7.1</td>\n",
       "      <td>2015</td>\n",
       "      <td>1.379999e+08</td>\n",
       "      <td>3.481613e+08</td>\n",
       "    </tr>\n",
       "    <tr>\n",
       "      <th>2</th>\n",
       "      <td>262500</td>\n",
       "      <td>tt2908446</td>\n",
       "      <td>13.112507</td>\n",
       "      <td>110000000</td>\n",
       "      <td>295238201</td>\n",
       "      <td>Insurgent</td>\n",
       "      <td>Shailene Woodley|Theo James|Kate Winslet|Ansel...</td>\n",
       "      <td>http://www.thedivergentseries.movie/#insurgent</td>\n",
       "      <td>Robert Schwentke</td>\n",
       "      <td>One Choice Can Destroy You</td>\n",
       "      <td>...</td>\n",
       "      <td>Beatrice Prior must confront her inner demons ...</td>\n",
       "      <td>119</td>\n",
       "      <td>Adventure|Science Fiction|Thriller</td>\n",
       "      <td>Summit Entertainment|Mandeville Films|Red Wago...</td>\n",
       "      <td>3/18/15</td>\n",
       "      <td>2480</td>\n",
       "      <td>6.3</td>\n",
       "      <td>2015</td>\n",
       "      <td>1.012000e+08</td>\n",
       "      <td>2.716190e+08</td>\n",
       "    </tr>\n",
       "    <tr>\n",
       "      <th>3</th>\n",
       "      <td>140607</td>\n",
       "      <td>tt2488496</td>\n",
       "      <td>11.173104</td>\n",
       "      <td>200000000</td>\n",
       "      <td>2068178225</td>\n",
       "      <td>Star Wars: The Force Awakens</td>\n",
       "      <td>Harrison Ford|Mark Hamill|Carrie Fisher|Adam D...</td>\n",
       "      <td>http://www.starwars.com/films/star-wars-episod...</td>\n",
       "      <td>J.J. Abrams</td>\n",
       "      <td>Every generation has a story.</td>\n",
       "      <td>...</td>\n",
       "      <td>Thirty years after defeating the Galactic Empi...</td>\n",
       "      <td>136</td>\n",
       "      <td>Action|Adventure|Science Fiction|Fantasy</td>\n",
       "      <td>Lucasfilm|Truenorth Productions|Bad Robot</td>\n",
       "      <td>12/15/15</td>\n",
       "      <td>5292</td>\n",
       "      <td>7.5</td>\n",
       "      <td>2015</td>\n",
       "      <td>1.839999e+08</td>\n",
       "      <td>1.902723e+09</td>\n",
       "    </tr>\n",
       "    <tr>\n",
       "      <th>4</th>\n",
       "      <td>168259</td>\n",
       "      <td>tt2820852</td>\n",
       "      <td>9.335014</td>\n",
       "      <td>190000000</td>\n",
       "      <td>1506249360</td>\n",
       "      <td>Furious 7</td>\n",
       "      <td>Vin Diesel|Paul Walker|Jason Statham|Michelle ...</td>\n",
       "      <td>http://www.furious7.com/</td>\n",
       "      <td>James Wan</td>\n",
       "      <td>Vengeance Hits Home</td>\n",
       "      <td>...</td>\n",
       "      <td>Deckard Shaw seeks revenge against Dominic Tor...</td>\n",
       "      <td>137</td>\n",
       "      <td>Action|Crime|Thriller</td>\n",
       "      <td>Universal Pictures|Original Film|Media Rights ...</td>\n",
       "      <td>4/1/15</td>\n",
       "      <td>2947</td>\n",
       "      <td>7.3</td>\n",
       "      <td>2015</td>\n",
       "      <td>1.747999e+08</td>\n",
       "      <td>1.385749e+09</td>\n",
       "    </tr>\n",
       "  </tbody>\n",
       "</table>\n",
       "<p>5 rows × 21 columns</p>\n",
       "</div>"
      ],
      "text/plain": [
       "       id    imdb_id  popularity     budget     revenue  \\\n",
       "0  135397  tt0369610   32.985763  150000000  1513528810   \n",
       "1   76341  tt1392190   28.419936  150000000   378436354   \n",
       "2  262500  tt2908446   13.112507  110000000   295238201   \n",
       "3  140607  tt2488496   11.173104  200000000  2068178225   \n",
       "4  168259  tt2820852    9.335014  190000000  1506249360   \n",
       "\n",
       "                 original_title  \\\n",
       "0                Jurassic World   \n",
       "1            Mad Max: Fury Road   \n",
       "2                     Insurgent   \n",
       "3  Star Wars: The Force Awakens   \n",
       "4                     Furious 7   \n",
       "\n",
       "                                                cast  \\\n",
       "0  Chris Pratt|Bryce Dallas Howard|Irrfan Khan|Vi...   \n",
       "1  Tom Hardy|Charlize Theron|Hugh Keays-Byrne|Nic...   \n",
       "2  Shailene Woodley|Theo James|Kate Winslet|Ansel...   \n",
       "3  Harrison Ford|Mark Hamill|Carrie Fisher|Adam D...   \n",
       "4  Vin Diesel|Paul Walker|Jason Statham|Michelle ...   \n",
       "\n",
       "                                            homepage          director  \\\n",
       "0                      http://www.jurassicworld.com/   Colin Trevorrow   \n",
       "1                        http://www.madmaxmovie.com/     George Miller   \n",
       "2     http://www.thedivergentseries.movie/#insurgent  Robert Schwentke   \n",
       "3  http://www.starwars.com/films/star-wars-episod...       J.J. Abrams   \n",
       "4                           http://www.furious7.com/         James Wan   \n",
       "\n",
       "                         tagline  ...  \\\n",
       "0              The park is open.  ...   \n",
       "1             What a Lovely Day.  ...   \n",
       "2     One Choice Can Destroy You  ...   \n",
       "3  Every generation has a story.  ...   \n",
       "4            Vengeance Hits Home  ...   \n",
       "\n",
       "                                            overview runtime  \\\n",
       "0  Twenty-two years after the events of Jurassic ...     124   \n",
       "1  An apocalyptic story set in the furthest reach...     120   \n",
       "2  Beatrice Prior must confront her inner demons ...     119   \n",
       "3  Thirty years after defeating the Galactic Empi...     136   \n",
       "4  Deckard Shaw seeks revenge against Dominic Tor...     137   \n",
       "\n",
       "                                      genres  \\\n",
       "0  Action|Adventure|Science Fiction|Thriller   \n",
       "1  Action|Adventure|Science Fiction|Thriller   \n",
       "2         Adventure|Science Fiction|Thriller   \n",
       "3   Action|Adventure|Science Fiction|Fantasy   \n",
       "4                      Action|Crime|Thriller   \n",
       "\n",
       "                                production_companies release_date vote_count  \\\n",
       "0  Universal Studios|Amblin Entertainment|Legenda...       6/9/15       5562   \n",
       "1  Village Roadshow Pictures|Kennedy Miller Produ...      5/13/15       6185   \n",
       "2  Summit Entertainment|Mandeville Films|Red Wago...      3/18/15       2480   \n",
       "3          Lucasfilm|Truenorth Productions|Bad Robot     12/15/15       5292   \n",
       "4  Universal Pictures|Original Film|Media Rights ...       4/1/15       2947   \n",
       "\n",
       "   vote_average  release_year    budget_adj   revenue_adj  \n",
       "0           6.5          2015  1.379999e+08  1.392446e+09  \n",
       "1           7.1          2015  1.379999e+08  3.481613e+08  \n",
       "2           6.3          2015  1.012000e+08  2.716190e+08  \n",
       "3           7.5          2015  1.839999e+08  1.902723e+09  \n",
       "4           7.3          2015  1.747999e+08  1.385749e+09  \n",
       "\n",
       "[5 rows x 21 columns]"
      ]
     },
     "execution_count": 2,
     "metadata": {},
     "output_type": "execute_result"
    }
   ],
   "source": [
    "%cd D:\\Machine Learning - Data Science\\Advanced Data Analysis FWD\\1.Introduction to Data Analysis\\Investigating TMBD\n",
    "    \n",
    "#Reading the CSV file\n",
    "df_movies = pd.read_csv('tmdb_movies.csv')\n",
    "df_movies.head()"
   ]
  },
  {
   "cell_type": "code",
   "execution_count": 3,
   "metadata": {},
   "outputs": [],
   "source": [
    "# I'll keep a copy of the original dataframe\n",
    "original_df_movies = df_movies.copy()"
   ]
  },
  {
   "cell_type": "markdown",
   "metadata": {},
   "source": [
    "**Shape of the data**"
   ]
  },
  {
   "cell_type": "code",
   "execution_count": 4,
   "metadata": {},
   "outputs": [
    {
     "name": "stdout",
     "output_type": "stream",
     "text": [
      "Data Shape = (10866, 21)\n"
     ]
    }
   ],
   "source": [
    "print('Data Shape =', df_movies.shape)"
   ]
  },
  {
   "cell_type": "markdown",
   "metadata": {},
   "source": [
    "**Checking for NAN values for Rows and Columns**"
   ]
  },
  {
   "cell_type": "code",
   "execution_count": 5,
   "metadata": {},
   "outputs": [
    {
     "name": "stdout",
     "output_type": "stream",
     "text": [
      "Number of rows that has NAN values = 8874\n"
     ]
    }
   ],
   "source": [
    "print('Number of rows that has NAN values =',\n",
    "      len(df_movies.isnull().sum(axis=1)[df_movies.isnull().sum(axis=1) > 0]))"
   ]
  },
  {
   "cell_type": "code",
   "execution_count": 6,
   "metadata": {},
   "outputs": [
    {
     "name": "stdout",
     "output_type": "stream",
     "text": [
      "For columns\n"
     ]
    },
    {
     "data": {
      "text/plain": [
       "imdb_id                   10\n",
       "cast                      76\n",
       "homepage                7930\n",
       "director                  44\n",
       "tagline                 2824\n",
       "keywords                1493\n",
       "overview                   4\n",
       "genres                    23\n",
       "production_companies    1030\n",
       "dtype: int64"
      ]
     },
     "execution_count": 6,
     "metadata": {},
     "output_type": "execute_result"
    }
   ],
   "source": [
    "print('For columns')\n",
    "df_movies.isnull().sum(axis=0)[df_movies.isnull().sum(axis=0) > 0]"
   ]
  },
  {
   "cell_type": "markdown",
   "metadata": {},
   "source": [
    "**Checking for Duplicate Values and Droping them**"
   ]
  },
  {
   "cell_type": "code",
   "execution_count": 7,
   "metadata": {},
   "outputs": [
    {
     "data": {
      "text/html": [
       "<div>\n",
       "<style scoped>\n",
       "    .dataframe tbody tr th:only-of-type {\n",
       "        vertical-align: middle;\n",
       "    }\n",
       "\n",
       "    .dataframe tbody tr th {\n",
       "        vertical-align: top;\n",
       "    }\n",
       "\n",
       "    .dataframe thead th {\n",
       "        text-align: right;\n",
       "    }\n",
       "</style>\n",
       "<table border=\"1\" class=\"dataframe\">\n",
       "  <thead>\n",
       "    <tr style=\"text-align: right;\">\n",
       "      <th></th>\n",
       "      <th>id</th>\n",
       "      <th>imdb_id</th>\n",
       "      <th>popularity</th>\n",
       "      <th>budget</th>\n",
       "      <th>revenue</th>\n",
       "      <th>original_title</th>\n",
       "      <th>cast</th>\n",
       "      <th>homepage</th>\n",
       "      <th>director</th>\n",
       "      <th>tagline</th>\n",
       "      <th>...</th>\n",
       "      <th>overview</th>\n",
       "      <th>runtime</th>\n",
       "      <th>genres</th>\n",
       "      <th>production_companies</th>\n",
       "      <th>release_date</th>\n",
       "      <th>vote_count</th>\n",
       "      <th>vote_average</th>\n",
       "      <th>release_year</th>\n",
       "      <th>budget_adj</th>\n",
       "      <th>revenue_adj</th>\n",
       "    </tr>\n",
       "  </thead>\n",
       "  <tbody>\n",
       "    <tr>\n",
       "      <th>2090</th>\n",
       "      <td>42194</td>\n",
       "      <td>tt0411951</td>\n",
       "      <td>0.59643</td>\n",
       "      <td>30000000</td>\n",
       "      <td>967000</td>\n",
       "      <td>TEKKEN</td>\n",
       "      <td>Jon Foo|Kelly Overton|Cary-Hiroyuki Tagawa|Ian...</td>\n",
       "      <td>NaN</td>\n",
       "      <td>Dwight H. Little</td>\n",
       "      <td>Survival is no game</td>\n",
       "      <td>...</td>\n",
       "      <td>In the year of 2039, after World Wars destroy ...</td>\n",
       "      <td>92</td>\n",
       "      <td>Crime|Drama|Action|Thriller|Science Fiction</td>\n",
       "      <td>Namco|Light Song Films</td>\n",
       "      <td>3/20/10</td>\n",
       "      <td>110</td>\n",
       "      <td>5.0</td>\n",
       "      <td>2010</td>\n",
       "      <td>30000000.0</td>\n",
       "      <td>967000.0</td>\n",
       "    </tr>\n",
       "  </tbody>\n",
       "</table>\n",
       "<p>1 rows × 21 columns</p>\n",
       "</div>"
      ],
      "text/plain": [
       "         id    imdb_id  popularity    budget  revenue original_title  \\\n",
       "2090  42194  tt0411951     0.59643  30000000   967000         TEKKEN   \n",
       "\n",
       "                                                   cast homepage  \\\n",
       "2090  Jon Foo|Kelly Overton|Cary-Hiroyuki Tagawa|Ian...      NaN   \n",
       "\n",
       "              director              tagline  ...  \\\n",
       "2090  Dwight H. Little  Survival is no game  ...   \n",
       "\n",
       "                                               overview runtime  \\\n",
       "2090  In the year of 2039, after World Wars destroy ...      92   \n",
       "\n",
       "                                           genres    production_companies  \\\n",
       "2090  Crime|Drama|Action|Thriller|Science Fiction  Namco|Light Song Films   \n",
       "\n",
       "     release_date vote_count  vote_average  release_year  budget_adj  \\\n",
       "2090      3/20/10        110           5.0          2010  30000000.0   \n",
       "\n",
       "      revenue_adj  \n",
       "2090     967000.0  \n",
       "\n",
       "[1 rows x 21 columns]"
      ]
     },
     "execution_count": 7,
     "metadata": {},
     "output_type": "execute_result"
    }
   ],
   "source": [
    "df_movies[df_movies.duplicated()]"
   ]
  },
  {
   "cell_type": "markdown",
   "metadata": {},
   "source": [
    "**Checking the number of unique values for every column to check if one of them has only 1 unique value**"
   ]
  },
  {
   "cell_type": "code",
   "execution_count": 8,
   "metadata": {},
   "outputs": [
    {
     "name": "stdout",
     "output_type": "stream",
     "text": [
      "id 10865\n",
      "imdb_id 10855\n",
      "popularity 10814\n",
      "budget 557\n",
      "revenue 4702\n",
      "original_title 10571\n",
      "cast 10719\n",
      "homepage 2896\n",
      "director 5067\n",
      "tagline 7997\n",
      "keywords 8804\n",
      "overview 10847\n",
      "runtime 247\n",
      "genres 2039\n",
      "production_companies 7445\n",
      "release_date 5909\n",
      "vote_count 1289\n",
      "vote_average 72\n",
      "release_year 56\n",
      "budget_adj 2614\n",
      "revenue_adj 4840\n"
     ]
    }
   ],
   "source": [
    "# Loop through the features to check unique values\n",
    "for i in df_movies.columns:\n",
    "    print(i, df_movies[i].nunique())"
   ]
  },
  {
   "cell_type": "markdown",
   "metadata": {},
   "source": [
    "**Data types of the featues of the data**"
   ]
  },
  {
   "cell_type": "code",
   "execution_count": 9,
   "metadata": {},
   "outputs": [
    {
     "data": {
      "text/plain": [
       "id                        int64\n",
       "imdb_id                  object\n",
       "popularity              float64\n",
       "budget                    int64\n",
       "revenue                   int64\n",
       "original_title           object\n",
       "cast                     object\n",
       "homepage                 object\n",
       "director                 object\n",
       "tagline                  object\n",
       "keywords                 object\n",
       "overview                 object\n",
       "runtime                   int64\n",
       "genres                   object\n",
       "production_companies     object\n",
       "release_date             object\n",
       "vote_count                int64\n",
       "vote_average            float64\n",
       "release_year              int64\n",
       "budget_adj              float64\n",
       "revenue_adj             float64\n",
       "dtype: object"
      ]
     },
     "execution_count": 9,
     "metadata": {},
     "output_type": "execute_result"
    }
   ],
   "source": [
    "df_movies.dtypes"
   ]
  },
  {
   "cell_type": "markdown",
   "metadata": {},
   "source": [
    "**Checking the values of some of the features which are (genres, cast, director, keywords, production_companies, and budget_adj/revenue_adj and exploring their relations with budget/revenue features**"
   ]
  },
  {
   "cell_type": "code",
   "execution_count": 10,
   "metadata": {},
   "outputs": [
    {
     "data": {
      "text/plain": [
       "0    Action|Adventure|Science Fiction|Thriller\n",
       "1    Action|Adventure|Science Fiction|Thriller\n",
       "2           Adventure|Science Fiction|Thriller\n",
       "3     Action|Adventure|Science Fiction|Fantasy\n",
       "4                        Action|Crime|Thriller\n",
       "Name: genres, dtype: object"
      ]
     },
     "execution_count": 10,
     "metadata": {},
     "output_type": "execute_result"
    }
   ],
   "source": [
    "df_movies['genres'].head()"
   ]
  },
  {
   "cell_type": "code",
   "execution_count": 11,
   "metadata": {},
   "outputs": [
    {
     "data": {
      "text/plain": [
       "0    Chris Pratt|Bryce Dallas Howard|Irrfan Khan|Vi...\n",
       "1    Tom Hardy|Charlize Theron|Hugh Keays-Byrne|Nic...\n",
       "2    Shailene Woodley|Theo James|Kate Winslet|Ansel...\n",
       "3    Harrison Ford|Mark Hamill|Carrie Fisher|Adam D...\n",
       "4    Vin Diesel|Paul Walker|Jason Statham|Michelle ...\n",
       "Name: cast, dtype: object"
      ]
     },
     "execution_count": 11,
     "metadata": {},
     "output_type": "execute_result"
    }
   ],
   "source": [
    "df_movies['cast'].head()"
   ]
  },
  {
   "cell_type": "code",
   "execution_count": 12,
   "metadata": {},
   "outputs": [
    {
     "data": {
      "text/plain": [
       "Woody Allen                                   45\n",
       "Clint Eastwood                                34\n",
       "Martin Scorsese                               29\n",
       "Steven Spielberg                              29\n",
       "Ridley Scott                                  23\n",
       "                                              ..\n",
       "Bruce Joel Rubin                               1\n",
       "Chris Berkeley|Lauren Montgomery|Jay Oliva     1\n",
       "Chris Renaud|Kyle Balda                        1\n",
       "Mark Palansky                                  1\n",
       "Guillaume Canet                                1\n",
       "Name: director, Length: 5067, dtype: int64"
      ]
     },
     "execution_count": 12,
     "metadata": {},
     "output_type": "execute_result"
    }
   ],
   "source": [
    "df_movies['director'].value_counts()"
   ]
  },
  {
   "cell_type": "code",
   "execution_count": 13,
   "metadata": {},
   "outputs": [
    {
     "data": {
      "text/plain": [
       "0    monster|dna|tyrannosaurus rex|velociraptor|island\n",
       "1     future|chase|post-apocalyptic|dystopia|australia\n",
       "2    based on novel|revolution|dystopia|sequel|dyst...\n",
       "3                android|spaceship|jedi|space opera|3d\n",
       "4                  car race|speed|revenge|suspense|car\n",
       "Name: keywords, dtype: object"
      ]
     },
     "execution_count": 13,
     "metadata": {},
     "output_type": "execute_result"
    }
   ],
   "source": [
    "df_movies['keywords'].head()"
   ]
  },
  {
   "cell_type": "code",
   "execution_count": 14,
   "metadata": {
    "scrolled": true
   },
   "outputs": [
    {
     "data": {
      "text/plain": [
       "Paramount Pictures                                      156\n",
       "Universal Pictures                                      133\n",
       "Warner Bros.                                             84\n",
       "Walt Disney Pictures                                     76\n",
       "Columbia Pictures                                        72\n",
       "                                                       ... \n",
       "Cell|Oz Company|Toei Video Company                        1\n",
       "Senator Film Produktion|Ecosse Films|Film4|Pod Films      1\n",
       "Dramatic Features|Warfield                                1\n",
       "DreamWorks SKG|Lakeshore Entertainment                    1\n",
       "Hemdale Film                                              1\n",
       "Name: production_companies, Length: 7445, dtype: int64"
      ]
     },
     "execution_count": 14,
     "metadata": {},
     "output_type": "execute_result"
    }
   ],
   "source": [
    "df_movies['production_companies'].value_counts()"
   ]
  },
  {
   "cell_type": "code",
   "execution_count": 15,
   "metadata": {},
   "outputs": [
    {
     "data": {
      "image/png": "[encoded data removed]",
      "text/plain": [
       "<Figure size 576x432 with 1 Axes>"
      ]
     },
     "metadata": {
      "needs_background": "light"
     },
     "output_type": "display_data"
    }
   ],
   "source": [
    "# Draw the 2 histograms of the budget and budget_adj together in the same figure\n",
    "fig, ax = plt.subplots(figsize=(8, 6))\n",
    "ax.hist(df_movies['budget_adj'], alpha=0.5, label='adj')\n",
    "ax.hist(df_movies['budget'], alpha=0.5, label='non_adj')\n",
    "ax.set_title('Budget')\n",
    "ax.set_xlabel('Values')\n",
    "ax.set_ylabel('Count')\n",
    "ax.legend(loc = 'upper right')\n",
    "plt.show()"
   ]
  },
  {
   "cell_type": "code",
   "execution_count": 16,
   "metadata": {},
   "outputs": [
    {
     "data": {
      "image/png": "[encoded data removed]",
      "text/plain": [
       "<Figure size 576x432 with 1 Axes>"
      ]
     },
     "metadata": {
      "needs_background": "light"
     },
     "output_type": "display_data"
    }
   ],
   "source": [
    "# Draw the 2 histograms of the revenue and revenue_adj together in the same figure\n",
    "fig, ax = plt.subplots(figsize=(8, 6))\n",
    "ax.hist(df_movies['revenue_adj'], alpha=0.5, label='adj')\n",
    "ax.hist(df_movies['revenue'], alpha=0.5, label='non_adj')\n",
    "ax.set_title('Revenue')\n",
    "ax.set_xlabel('Values')\n",
    "ax.set_ylabel('Count')\n",
    "ax.legend(loc = 'upper right')\n",
    "plt.show()"
   ]
  },
  {
   "cell_type": "markdown",
   "metadata": {},
   "source": [
    "#### Conclusion"
   ]
  },
  {
   "cell_type": "markdown",
   "metadata": {},
   "source": [
    "> **There is some features that takes more that one value in each cell like (genres, cast, director, and keywords.) Those values are separated with the '|' character. So, we need to take care of that if needed while we work.**\n",
    "\n",
    "> **The budget_adj/revenue_adj features distributions are very similar to budget/revenue features, but they change a little for the values that less than 250 million dollor - as they give some of them a higher value - which is so relastic when comparing the movies together. As we can't really compare revenues of movies from the 80's with movies from the year 2015 because if we did, then we didn't take into consideration the inflation of the dollar currency over time.  \n",
    "So I think comparing revenues/budgets with the adj-features makes more scence and I will use them during my analysis**"
   ]
  },
  {
   "cell_type": "markdown",
   "metadata": {},
   "source": [
    "### Data Cleaning \n",
    "> **For the purpose of answering our questions, we will perform some basic operatures like dropping duplicates, we will remove some uneeded featrues that want be useful for us like budget/ revenue (as explained in the previous section,) homepage, release_data (I will use release_year instead,) tagline, keyworks, overview, and imdb_id.**\n",
    "\n",
    "> **I will keep the main features to be used like ID, popularity, original_title, cast, director, genres, vote_count, vote_avg, and budget_adj/revenue_adj. I will also keep the runtime feature to see if we can benfit from it or not**\n",
    "\n",
    "> **I will modify the genres feature to make its values to be lists instead of '|' seperated values (as it has just 20 unique value.) However, I won't do the same modification for the other features with the same issues and I'll deal with them as strings (becaues they all have more than 2000 unique values.)**\n",
    "\n",
    "> **I won't remove NAN values now, I will leave them to be removed manually depending on the situation and the question.**"
   ]
  },
  {
   "cell_type": "markdown",
   "metadata": {},
   "source": [
    "**Drop Duplicates**"
   ]
  },
  {
   "cell_type": "code",
   "execution_count": 17,
   "metadata": {},
   "outputs": [],
   "source": [
    "df_movies.drop_duplicates(inplace=True)"
   ]
  },
  {
   "cell_type": "markdown",
   "metadata": {},
   "source": [
    "**Dropping unnecessary features**"
   ]
  },
  {
   "cell_type": "code",
   "execution_count": 18,
   "metadata": {},
   "outputs": [],
   "source": [
    "df_movies.drop(columns=['imdb_id', 'budget', 'revenue', 'homepage',\n",
    "                        'tagline', 'keywords', 'overview', 'release_date'], inplace=True)"
   ]
  },
  {
   "cell_type": "markdown",
   "metadata": {},
   "source": [
    "**Modiy genres feature**"
   ]
  },
  {
   "cell_type": "code",
   "execution_count": 19,
   "metadata": {},
   "outputs": [
    {
     "data": {
      "text/html": [
       "<div>\n",
       "<style scoped>\n",
       "    .dataframe tbody tr th:only-of-type {\n",
       "        vertical-align: middle;\n",
       "    }\n",
       "\n",
       "    .dataframe tbody tr th {\n",
       "        vertical-align: top;\n",
       "    }\n",
       "\n",
       "    .dataframe thead th {\n",
       "        text-align: right;\n",
       "    }\n",
       "</style>\n",
       "<table border=\"1\" class=\"dataframe\">\n",
       "  <thead>\n",
       "    <tr style=\"text-align: right;\">\n",
       "      <th></th>\n",
       "      <th>id</th>\n",
       "      <th>popularity</th>\n",
       "      <th>original_title</th>\n",
       "      <th>cast</th>\n",
       "      <th>director</th>\n",
       "      <th>runtime</th>\n",
       "      <th>genres</th>\n",
       "      <th>production_companies</th>\n",
       "      <th>vote_count</th>\n",
       "      <th>vote_average</th>\n",
       "      <th>release_year</th>\n",
       "      <th>budget_adj</th>\n",
       "      <th>revenue_adj</th>\n",
       "    </tr>\n",
       "  </thead>\n",
       "  <tbody>\n",
       "    <tr>\n",
       "      <th>0</th>\n",
       "      <td>135397</td>\n",
       "      <td>32.985763</td>\n",
       "      <td>Jurassic World</td>\n",
       "      <td>Chris Pratt|Bryce Dallas Howard|Irrfan Khan|Vi...</td>\n",
       "      <td>Colin Trevorrow</td>\n",
       "      <td>124</td>\n",
       "      <td>[Action, Adventure, Science Fiction, Thriller]</td>\n",
       "      <td>Universal Studios|Amblin Entertainment|Legenda...</td>\n",
       "      <td>5562</td>\n",
       "      <td>6.5</td>\n",
       "      <td>2015</td>\n",
       "      <td>1.379999e+08</td>\n",
       "      <td>1.392446e+09</td>\n",
       "    </tr>\n",
       "    <tr>\n",
       "      <th>1</th>\n",
       "      <td>76341</td>\n",
       "      <td>28.419936</td>\n",
       "      <td>Mad Max: Fury Road</td>\n",
       "      <td>Tom Hardy|Charlize Theron|Hugh Keays-Byrne|Nic...</td>\n",
       "      <td>George Miller</td>\n",
       "      <td>120</td>\n",
       "      <td>[Action, Adventure, Science Fiction, Thriller]</td>\n",
       "      <td>Village Roadshow Pictures|Kennedy Miller Produ...</td>\n",
       "      <td>6185</td>\n",
       "      <td>7.1</td>\n",
       "      <td>2015</td>\n",
       "      <td>1.379999e+08</td>\n",
       "      <td>3.481613e+08</td>\n",
       "    </tr>\n",
       "  </tbody>\n",
       "</table>\n",
       "</div>"
      ],
      "text/plain": [
       "       id  popularity      original_title  \\\n",
       "0  135397   32.985763      Jurassic World   \n",
       "1   76341   28.419936  Mad Max: Fury Road   \n",
       "\n",
       "                                                cast         director  \\\n",
       "0  Chris Pratt|Bryce Dallas Howard|Irrfan Khan|Vi...  Colin Trevorrow   \n",
       "1  Tom Hardy|Charlize Theron|Hugh Keays-Byrne|Nic...    George Miller   \n",
       "\n",
       "   runtime                                          genres  \\\n",
       "0      124  [Action, Adventure, Science Fiction, Thriller]   \n",
       "1      120  [Action, Adventure, Science Fiction, Thriller]   \n",
       "\n",
       "                                production_companies  vote_count  \\\n",
       "0  Universal Studios|Amblin Entertainment|Legenda...        5562   \n",
       "1  Village Roadshow Pictures|Kennedy Miller Produ...        6185   \n",
       "\n",
       "   vote_average  release_year    budget_adj   revenue_adj  \n",
       "0           6.5          2015  1.379999e+08  1.392446e+09  \n",
       "1           7.1          2015  1.379999e+08  3.481613e+08  "
      ]
     },
     "execution_count": 19,
     "metadata": {},
     "output_type": "execute_result"
    }
   ],
   "source": [
    "# Split the genres feature string by the '|' character to form a list of strings\n",
    "df_movies['genres'] = df_movies['genres'].str.split('|')\n",
    "df_movies.head(2)"
   ]
  },
  {
   "cell_type": "markdown",
   "metadata": {},
   "source": [
    "<a id='eda'></a>\n",
    "## Exploratory Data Analysis\n",
    "\n",
    "> **We applied the general cleaning steps that will help us answering our questions. We are ready to go**"
   ]
  },
  {
   "cell_type": "markdown",
   "metadata": {},
   "source": [
    "### Q1. Which genres are most popular from year to year?"
   ]
  },
  {
   "cell_type": "markdown",
   "metadata": {},
   "source": [
    ">**The first step to answer this question is to split the geners of every movie and make it a seperete feature. That will help us studing the genres with respect to each year.**"
   ]
  },
  {
   "cell_type": "markdown",
   "metadata": {},
   "source": [
    "**If the genre exists, put 1, otherwise, keep it NAN and then fill NAN with 0s**"
   ]
  },
  {
   "cell_type": "code",
   "execution_count": 20,
   "metadata": {},
   "outputs": [
    {
     "data": {
      "text/html": [
       "<div>\n",
       "<style scoped>\n",
       "    .dataframe tbody tr th:only-of-type {\n",
       "        vertical-align: middle;\n",
       "    }\n",
       "\n",
       "    .dataframe tbody tr th {\n",
       "        vertical-align: top;\n",
       "    }\n",
       "\n",
       "    .dataframe thead th {\n",
       "        text-align: right;\n",
       "    }\n",
       "</style>\n",
       "<table border=\"1\" class=\"dataframe\">\n",
       "  <thead>\n",
       "    <tr style=\"text-align: right;\">\n",
       "      <th></th>\n",
       "      <th>id</th>\n",
       "      <th>popularity</th>\n",
       "      <th>original_title</th>\n",
       "      <th>cast</th>\n",
       "      <th>director</th>\n",
       "      <th>runtime</th>\n",
       "      <th>genres</th>\n",
       "      <th>production_companies</th>\n",
       "      <th>vote_count</th>\n",
       "      <th>vote_average</th>\n",
       "      <th>...</th>\n",
       "      <th>Comedy</th>\n",
       "      <th>Mystery</th>\n",
       "      <th>Romance</th>\n",
       "      <th>War</th>\n",
       "      <th>History</th>\n",
       "      <th>Music</th>\n",
       "      <th>Horror</th>\n",
       "      <th>Documentary</th>\n",
       "      <th>TV Movie</th>\n",
       "      <th>Foreign</th>\n",
       "    </tr>\n",
       "  </thead>\n",
       "  <tbody>\n",
       "    <tr>\n",
       "      <th>0</th>\n",
       "      <td>135397</td>\n",
       "      <td>32.985763</td>\n",
       "      <td>Jurassic World</td>\n",
       "      <td>Chris Pratt|Bryce Dallas Howard|Irrfan Khan|Vi...</td>\n",
       "      <td>Colin Trevorrow</td>\n",
       "      <td>124</td>\n",
       "      <td>[Action, Adventure, Science Fiction, Thriller]</td>\n",
       "      <td>Universal Studios|Amblin Entertainment|Legenda...</td>\n",
       "      <td>5562</td>\n",
       "      <td>6.5</td>\n",
       "      <td>...</td>\n",
       "      <td>0.0</td>\n",
       "      <td>0.0</td>\n",
       "      <td>0.0</td>\n",
       "      <td>0.0</td>\n",
       "      <td>0.0</td>\n",
       "      <td>0.0</td>\n",
       "      <td>0.0</td>\n",
       "      <td>0.0</td>\n",
       "      <td>0.0</td>\n",
       "      <td>0.0</td>\n",
       "    </tr>\n",
       "    <tr>\n",
       "      <th>1</th>\n",
       "      <td>76341</td>\n",
       "      <td>28.419936</td>\n",
       "      <td>Mad Max: Fury Road</td>\n",
       "      <td>Tom Hardy|Charlize Theron|Hugh Keays-Byrne|Nic...</td>\n",
       "      <td>George Miller</td>\n",
       "      <td>120</td>\n",
       "      <td>[Action, Adventure, Science Fiction, Thriller]</td>\n",
       "      <td>Village Roadshow Pictures|Kennedy Miller Produ...</td>\n",
       "      <td>6185</td>\n",
       "      <td>7.1</td>\n",
       "      <td>...</td>\n",
       "      <td>0.0</td>\n",
       "      <td>0.0</td>\n",
       "      <td>0.0</td>\n",
       "      <td>0.0</td>\n",
       "      <td>0.0</td>\n",
       "      <td>0.0</td>\n",
       "      <td>0.0</td>\n",
       "      <td>0.0</td>\n",
       "      <td>0.0</td>\n",
       "      <td>0.0</td>\n",
       "    </tr>\n",
       "    <tr>\n",
       "      <th>2</th>\n",
       "      <td>262500</td>\n",
       "      <td>13.112507</td>\n",
       "      <td>Insurgent</td>\n",
       "      <td>Shailene Woodley|Theo James|Kate Winslet|Ansel...</td>\n",
       "      <td>Robert Schwentke</td>\n",
       "      <td>119</td>\n",
       "      <td>[Adventure, Science Fiction, Thriller]</td>\n",
       "      <td>Summit Entertainment|Mandeville Films|Red Wago...</td>\n",
       "      <td>2480</td>\n",
       "      <td>6.3</td>\n",
       "      <td>...</td>\n",
       "      <td>0.0</td>\n",
       "      <td>0.0</td>\n",
       "      <td>0.0</td>\n",
       "      <td>0.0</td>\n",
       "      <td>0.0</td>\n",
       "      <td>0.0</td>\n",
       "      <td>0.0</td>\n",
       "      <td>0.0</td>\n",
       "      <td>0.0</td>\n",
       "      <td>0.0</td>\n",
       "    </tr>\n",
       "    <tr>\n",
       "      <th>3</th>\n",
       "      <td>140607</td>\n",
       "      <td>11.173104</td>\n",
       "      <td>Star Wars: The Force Awakens</td>\n",
       "      <td>Harrison Ford|Mark Hamill|Carrie Fisher|Adam D...</td>\n",
       "      <td>J.J. Abrams</td>\n",
       "      <td>136</td>\n",
       "      <td>[Action, Adventure, Science Fiction, Fantasy]</td>\n",
       "      <td>Lucasfilm|Truenorth Productions|Bad Robot</td>\n",
       "      <td>5292</td>\n",
       "      <td>7.5</td>\n",
       "      <td>...</td>\n",
       "      <td>0.0</td>\n",
       "      <td>0.0</td>\n",
       "      <td>0.0</td>\n",
       "      <td>0.0</td>\n",
       "      <td>0.0</td>\n",
       "      <td>0.0</td>\n",
       "      <td>0.0</td>\n",
       "      <td>0.0</td>\n",
       "      <td>0.0</td>\n",
       "      <td>0.0</td>\n",
       "    </tr>\n",
       "  </tbody>\n",
       "</table>\n",
       "<p>4 rows × 33 columns</p>\n",
       "</div>"
      ],
      "text/plain": [
       "       id  popularity                original_title  \\\n",
       "0  135397   32.985763                Jurassic World   \n",
       "1   76341   28.419936            Mad Max: Fury Road   \n",
       "2  262500   13.112507                     Insurgent   \n",
       "3  140607   11.173104  Star Wars: The Force Awakens   \n",
       "\n",
       "                                                cast          director  \\\n",
       "0  Chris Pratt|Bryce Dallas Howard|Irrfan Khan|Vi...   Colin Trevorrow   \n",
       "1  Tom Hardy|Charlize Theron|Hugh Keays-Byrne|Nic...     George Miller   \n",
       "2  Shailene Woodley|Theo James|Kate Winslet|Ansel...  Robert Schwentke   \n",
       "3  Harrison Ford|Mark Hamill|Carrie Fisher|Adam D...       J.J. Abrams   \n",
       "\n",
       "   runtime                                          genres  \\\n",
       "0      124  [Action, Adventure, Science Fiction, Thriller]   \n",
       "1      120  [Action, Adventure, Science Fiction, Thriller]   \n",
       "2      119          [Adventure, Science Fiction, Thriller]   \n",
       "3      136   [Action, Adventure, Science Fiction, Fantasy]   \n",
       "\n",
       "                                production_companies  vote_count  \\\n",
       "0  Universal Studios|Amblin Entertainment|Legenda...        5562   \n",
       "1  Village Roadshow Pictures|Kennedy Miller Produ...        6185   \n",
       "2  Summit Entertainment|Mandeville Films|Red Wago...        2480   \n",
       "3          Lucasfilm|Truenorth Productions|Bad Robot        5292   \n",
       "\n",
       "   vote_average  ...  Comedy  Mystery  Romance  War  History  Music  Horror  \\\n",
       "0           6.5  ...     0.0      0.0      0.0  0.0      0.0    0.0     0.0   \n",
       "1           7.1  ...     0.0      0.0      0.0  0.0      0.0    0.0     0.0   \n",
       "2           6.3  ...     0.0      0.0      0.0  0.0      0.0    0.0     0.0   \n",
       "3           7.5  ...     0.0      0.0      0.0  0.0      0.0    0.0     0.0   \n",
       "\n",
       "   Documentary  TV Movie  Foreign  \n",
       "0          0.0       0.0      0.0  \n",
       "1          0.0       0.0      0.0  \n",
       "2          0.0       0.0      0.0  \n",
       "3          0.0       0.0      0.0  \n",
       "\n",
       "[4 rows x 33 columns]"
      ]
     },
     "execution_count": 20,
     "metadata": {},
     "output_type": "execute_result"
    }
   ],
   "source": [
    "# Take a copy of df_movies and make every gener a seperete feature \n",
    "moviesWithGenres_df = df_movies.copy()\n",
    "\n",
    "# Dropping NAN genres values\n",
    "moviesWithGenres_df.dropna(axis=0, subset=['genres'], inplace=True)\n",
    "\n",
    "# Iterate through the rows and the genre feature to create a new column for each genre\n",
    "# If a new genre is appeared, create a new column and put 1 in that row of the column\n",
    "# If its a genre appeared again, we simply put 1 in the its column that we created before\n",
    "for index, row in moviesWithGenres_df.iterrows():\n",
    "    for genre in row['genres']:\n",
    "        moviesWithGenres_df.at[index, genre] = 1\n",
    "\n",
    "# Fill the NAN values with zeros\n",
    "moviesWithGenres_df = moviesWithGenres_df.fillna(0)\n",
    "moviesWithGenres_df.head(4)"
   ]
  },
  {
   "cell_type": "markdown",
   "metadata": {},
   "source": [
    "**Let's just take the important features from our data frame (release_year, popularity, and all the genres.)**"
   ]
  },
  {
   "cell_type": "code",
   "execution_count": 21,
   "metadata": {},
   "outputs": [
    {
     "data": {
      "text/html": [
       "<div>\n",
       "<style scoped>\n",
       "    .dataframe tbody tr th:only-of-type {\n",
       "        vertical-align: middle;\n",
       "    }\n",
       "\n",
       "    .dataframe tbody tr th {\n",
       "        vertical-align: top;\n",
       "    }\n",
       "\n",
       "    .dataframe thead th {\n",
       "        text-align: right;\n",
       "    }\n",
       "</style>\n",
       "<table border=\"1\" class=\"dataframe\">\n",
       "  <thead>\n",
       "    <tr style=\"text-align: right;\">\n",
       "      <th></th>\n",
       "      <th>release_year</th>\n",
       "      <th>popularity</th>\n",
       "      <th>Action</th>\n",
       "      <th>Adventure</th>\n",
       "      <th>Science Fiction</th>\n",
       "      <th>Thriller</th>\n",
       "      <th>Fantasy</th>\n",
       "      <th>Crime</th>\n",
       "      <th>Western</th>\n",
       "      <th>Drama</th>\n",
       "      <th>...</th>\n",
       "      <th>Comedy</th>\n",
       "      <th>Mystery</th>\n",
       "      <th>Romance</th>\n",
       "      <th>War</th>\n",
       "      <th>History</th>\n",
       "      <th>Music</th>\n",
       "      <th>Horror</th>\n",
       "      <th>Documentary</th>\n",
       "      <th>TV Movie</th>\n",
       "      <th>Foreign</th>\n",
       "    </tr>\n",
       "  </thead>\n",
       "  <tbody>\n",
       "    <tr>\n",
       "      <th>0</th>\n",
       "      <td>2015</td>\n",
       "      <td>32.985763</td>\n",
       "      <td>1.0</td>\n",
       "      <td>1.0</td>\n",
       "      <td>1.0</td>\n",
       "      <td>1.0</td>\n",
       "      <td>0.0</td>\n",
       "      <td>0.0</td>\n",
       "      <td>0.0</td>\n",
       "      <td>0.0</td>\n",
       "      <td>...</td>\n",
       "      <td>0.0</td>\n",
       "      <td>0.0</td>\n",
       "      <td>0.0</td>\n",
       "      <td>0.0</td>\n",
       "      <td>0.0</td>\n",
       "      <td>0.0</td>\n",
       "      <td>0.0</td>\n",
       "      <td>0.0</td>\n",
       "      <td>0.0</td>\n",
       "      <td>0.0</td>\n",
       "    </tr>\n",
       "    <tr>\n",
       "      <th>1</th>\n",
       "      <td>2015</td>\n",
       "      <td>28.419936</td>\n",
       "      <td>1.0</td>\n",
       "      <td>1.0</td>\n",
       "      <td>1.0</td>\n",
       "      <td>1.0</td>\n",
       "      <td>0.0</td>\n",
       "      <td>0.0</td>\n",
       "      <td>0.0</td>\n",
       "      <td>0.0</td>\n",
       "      <td>...</td>\n",
       "      <td>0.0</td>\n",
       "      <td>0.0</td>\n",
       "      <td>0.0</td>\n",
       "      <td>0.0</td>\n",
       "      <td>0.0</td>\n",
       "      <td>0.0</td>\n",
       "      <td>0.0</td>\n",
       "      <td>0.0</td>\n",
       "      <td>0.0</td>\n",
       "      <td>0.0</td>\n",
       "    </tr>\n",
       "    <tr>\n",
       "      <th>2</th>\n",
       "      <td>2015</td>\n",
       "      <td>13.112507</td>\n",
       "      <td>0.0</td>\n",
       "      <td>1.0</td>\n",
       "      <td>1.0</td>\n",
       "      <td>1.0</td>\n",
       "      <td>0.0</td>\n",
       "      <td>0.0</td>\n",
       "      <td>0.0</td>\n",
       "      <td>0.0</td>\n",
       "      <td>...</td>\n",
       "      <td>0.0</td>\n",
       "      <td>0.0</td>\n",
       "      <td>0.0</td>\n",
       "      <td>0.0</td>\n",
       "      <td>0.0</td>\n",
       "      <td>0.0</td>\n",
       "      <td>0.0</td>\n",
       "      <td>0.0</td>\n",
       "      <td>0.0</td>\n",
       "      <td>0.0</td>\n",
       "    </tr>\n",
       "    <tr>\n",
       "      <th>3</th>\n",
       "      <td>2015</td>\n",
       "      <td>11.173104</td>\n",
       "      <td>1.0</td>\n",
       "      <td>1.0</td>\n",
       "      <td>1.0</td>\n",
       "      <td>0.0</td>\n",
       "      <td>1.0</td>\n",
       "      <td>0.0</td>\n",
       "      <td>0.0</td>\n",
       "      <td>0.0</td>\n",
       "      <td>...</td>\n",
       "      <td>0.0</td>\n",
       "      <td>0.0</td>\n",
       "      <td>0.0</td>\n",
       "      <td>0.0</td>\n",
       "      <td>0.0</td>\n",
       "      <td>0.0</td>\n",
       "      <td>0.0</td>\n",
       "      <td>0.0</td>\n",
       "      <td>0.0</td>\n",
       "      <td>0.0</td>\n",
       "    </tr>\n",
       "    <tr>\n",
       "      <th>4</th>\n",
       "      <td>2015</td>\n",
       "      <td>9.335014</td>\n",
       "      <td>1.0</td>\n",
       "      <td>0.0</td>\n",
       "      <td>0.0</td>\n",
       "      <td>1.0</td>\n",
       "      <td>0.0</td>\n",
       "      <td>1.0</td>\n",
       "      <td>0.0</td>\n",
       "      <td>0.0</td>\n",
       "      <td>...</td>\n",
       "      <td>0.0</td>\n",
       "      <td>0.0</td>\n",
       "      <td>0.0</td>\n",
       "      <td>0.0</td>\n",
       "      <td>0.0</td>\n",
       "      <td>0.0</td>\n",
       "      <td>0.0</td>\n",
       "      <td>0.0</td>\n",
       "      <td>0.0</td>\n",
       "      <td>0.0</td>\n",
       "    </tr>\n",
       "  </tbody>\n",
       "</table>\n",
       "<p>5 rows × 22 columns</p>\n",
       "</div>"
      ],
      "text/plain": [
       "   release_year  popularity  Action  Adventure  Science Fiction  Thriller  \\\n",
       "0          2015   32.985763     1.0        1.0              1.0       1.0   \n",
       "1          2015   28.419936     1.0        1.0              1.0       1.0   \n",
       "2          2015   13.112507     0.0        1.0              1.0       1.0   \n",
       "3          2015   11.173104     1.0        1.0              1.0       0.0   \n",
       "4          2015    9.335014     1.0        0.0              0.0       1.0   \n",
       "\n",
       "   Fantasy  Crime  Western  Drama  ...  Comedy  Mystery  Romance  War  \\\n",
       "0      0.0    0.0      0.0    0.0  ...     0.0      0.0      0.0  0.0   \n",
       "1      0.0    0.0      0.0    0.0  ...     0.0      0.0      0.0  0.0   \n",
       "2      0.0    0.0      0.0    0.0  ...     0.0      0.0      0.0  0.0   \n",
       "3      1.0    0.0      0.0    0.0  ...     0.0      0.0      0.0  0.0   \n",
       "4      0.0    1.0      0.0    0.0  ...     0.0      0.0      0.0  0.0   \n",
       "\n",
       "   History  Music  Horror  Documentary  TV Movie  Foreign  \n",
       "0      0.0    0.0     0.0          0.0       0.0      0.0  \n",
       "1      0.0    0.0     0.0          0.0       0.0      0.0  \n",
       "2      0.0    0.0     0.0          0.0       0.0      0.0  \n",
       "3      0.0    0.0     0.0          0.0       0.0      0.0  \n",
       "4      0.0    0.0     0.0          0.0       0.0      0.0  \n",
       "\n",
       "[5 rows x 22 columns]"
      ]
     },
     "execution_count": 21,
     "metadata": {},
     "output_type": "execute_result"
    }
   ],
   "source": [
    "# Selecting the important featrues (release_year, popularity,\n",
    "# and all genre columns that starts from the 13th column index)\n",
    "genres_df = moviesWithGenres_df.loc[:, ['release_year', 'popularity']].copy()\n",
    "genres_df = pd.concat([genres_df, moviesWithGenres_df.iloc[:, 13:].copy()], axis=1)\n",
    "genres_df.head()"
   ]
  },
  {
   "cell_type": "markdown",
   "metadata": {},
   "source": [
    "**Calulating the average popularity of every gener by grouping by release_date with popularity and every gener we have separately, and add it to the generesPopularities_df data frame**"
   ]
  },
  {
   "cell_type": "code",
   "execution_count": 22,
   "metadata": {
    "scrolled": true
   },
   "outputs": [
    {
     "data": {
      "text/html": [
       "<div>\n",
       "<style scoped>\n",
       "    .dataframe tbody tr th:only-of-type {\n",
       "        vertical-align: middle;\n",
       "    }\n",
       "\n",
       "    .dataframe tbody tr th {\n",
       "        vertical-align: top;\n",
       "    }\n",
       "\n",
       "    .dataframe thead th {\n",
       "        text-align: right;\n",
       "    }\n",
       "</style>\n",
       "<table border=\"1\" class=\"dataframe\">\n",
       "  <thead>\n",
       "    <tr style=\"text-align: right;\">\n",
       "      <th></th>\n",
       "      <th>release_year</th>\n",
       "      <th>Action_popularity</th>\n",
       "      <th>Adventure_popularity</th>\n",
       "      <th>Science Fiction_popularity</th>\n",
       "      <th>Thriller_popularity</th>\n",
       "      <th>Fantasy_popularity</th>\n",
       "      <th>Crime_popularity</th>\n",
       "      <th>Western_popularity</th>\n",
       "      <th>Drama_popularity</th>\n",
       "      <th>Family_popularity</th>\n",
       "      <th>...</th>\n",
       "      <th>Comedy_popularity</th>\n",
       "      <th>Mystery_popularity</th>\n",
       "      <th>Romance_popularity</th>\n",
       "      <th>War_popularity</th>\n",
       "      <th>History_popularity</th>\n",
       "      <th>Music_popularity</th>\n",
       "      <th>Horror_popularity</th>\n",
       "      <th>Documentary_popularity</th>\n",
       "      <th>TV Movie_popularity</th>\n",
       "      <th>Foreign_popularity</th>\n",
       "    </tr>\n",
       "  </thead>\n",
       "  <tbody>\n",
       "    <tr>\n",
       "      <th>0</th>\n",
       "      <td>1960</td>\n",
       "      <td>0.590724</td>\n",
       "      <td>0.700981</td>\n",
       "      <td>0.327905</td>\n",
       "      <td>0.811910</td>\n",
       "      <td>0.428247</td>\n",
       "      <td>0.346479</td>\n",
       "      <td>0.567759</td>\n",
       "      <td>0.566305</td>\n",
       "      <td>0.278064</td>\n",
       "      <td>...</td>\n",
       "      <td>0.396000</td>\n",
       "      <td>0.712793</td>\n",
       "      <td>0.541227</td>\n",
       "      <td>0.225863</td>\n",
       "      <td>0.412364</td>\n",
       "      <td>0.423531</td>\n",
       "      <td>0.591450</td>\n",
       "      <td>0.080598</td>\n",
       "      <td>0.600975</td>\n",
       "      <td>0.194948</td>\n",
       "    </tr>\n",
       "    <tr>\n",
       "      <th>1</th>\n",
       "      <td>1961</td>\n",
       "      <td>0.365913</td>\n",
       "      <td>0.767323</td>\n",
       "      <td>0.274103</td>\n",
       "      <td>0.760582</td>\n",
       "      <td>0.154073</td>\n",
       "      <td>0.806519</td>\n",
       "      <td>0.210021</td>\n",
       "      <td>0.432233</td>\n",
       "      <td>0.755722</td>\n",
       "      <td>...</td>\n",
       "      <td>0.679838</td>\n",
       "      <td>0.259220</td>\n",
       "      <td>0.426036</td>\n",
       "      <td>0.531184</td>\n",
       "      <td>0.334463</td>\n",
       "      <td>0.564748</td>\n",
       "      <td>0.254578</td>\n",
       "      <td>0.095101</td>\n",
       "      <td>0.528660</td>\n",
       "      <td>0.113651</td>\n",
       "    </tr>\n",
       "    <tr>\n",
       "      <th>2</th>\n",
       "      <td>1962</td>\n",
       "      <td>0.708945</td>\n",
       "      <td>0.942513</td>\n",
       "      <td>0.179212</td>\n",
       "      <td>0.719929</td>\n",
       "      <td>0.235542</td>\n",
       "      <td>0.472816</td>\n",
       "      <td>0.414180</td>\n",
       "      <td>0.392000</td>\n",
       "      <td>0.323463</td>\n",
       "      <td>...</td>\n",
       "      <td>0.273183</td>\n",
       "      <td>0.421033</td>\n",
       "      <td>0.365621</td>\n",
       "      <td>0.506162</td>\n",
       "      <td>0.600060</td>\n",
       "      <td>0.323933</td>\n",
       "      <td>0.179368</td>\n",
       "      <td>0.213653</td>\n",
       "      <td>0.318475</td>\n",
       "      <td>0.235542</td>\n",
       "    </tr>\n",
       "    <tr>\n",
       "      <th>3</th>\n",
       "      <td>1963</td>\n",
       "      <td>0.951729</td>\n",
       "      <td>0.728487</td>\n",
       "      <td>0.467835</td>\n",
       "      <td>0.622580</td>\n",
       "      <td>0.214071</td>\n",
       "      <td>0.552367</td>\n",
       "      <td>0.246957</td>\n",
       "      <td>0.322448</td>\n",
       "      <td>0.852632</td>\n",
       "      <td>...</td>\n",
       "      <td>0.444481</td>\n",
       "      <td>0.308091</td>\n",
       "      <td>0.399573</td>\n",
       "      <td>0.664326</td>\n",
       "      <td>0.481618</td>\n",
       "      <td>0.753799</td>\n",
       "      <td>0.376901</td>\n",
       "      <td>0.265169</td>\n",
       "      <td>0.176973</td>\n",
       "      <td>0.351647</td>\n",
       "    </tr>\n",
       "    <tr>\n",
       "      <th>4</th>\n",
       "      <td>1964</td>\n",
       "      <td>0.813087</td>\n",
       "      <td>0.736431</td>\n",
       "      <td>0.226636</td>\n",
       "      <td>0.343072</td>\n",
       "      <td>0.599791</td>\n",
       "      <td>0.261690</td>\n",
       "      <td>0.127679</td>\n",
       "      <td>0.364818</td>\n",
       "      <td>0.878298</td>\n",
       "      <td>...</td>\n",
       "      <td>0.491229</td>\n",
       "      <td>0.209204</td>\n",
       "      <td>0.221586</td>\n",
       "      <td>0.930959</td>\n",
       "      <td>0.316377</td>\n",
       "      <td>0.968850</td>\n",
       "      <td>0.189650</td>\n",
       "      <td>0.021941</td>\n",
       "      <td>0.143165</td>\n",
       "      <td>0.152209</td>\n",
       "    </tr>\n",
       "  </tbody>\n",
       "</table>\n",
       "<p>5 rows × 21 columns</p>\n",
       "</div>"
      ],
      "text/plain": [
       "   release_year  Action_popularity  Adventure_popularity  \\\n",
       "0          1960           0.590724              0.700981   \n",
       "1          1961           0.365913              0.767323   \n",
       "2          1962           0.708945              0.942513   \n",
       "3          1963           0.951729              0.728487   \n",
       "4          1964           0.813087              0.736431   \n",
       "\n",
       "   Science Fiction_popularity  Thriller_popularity  Fantasy_popularity  \\\n",
       "0                    0.327905             0.811910            0.428247   \n",
       "1                    0.274103             0.760582            0.154073   \n",
       "2                    0.179212             0.719929            0.235542   \n",
       "3                    0.467835             0.622580            0.214071   \n",
       "4                    0.226636             0.343072            0.599791   \n",
       "\n",
       "   Crime_popularity  Western_popularity  Drama_popularity  Family_popularity  \\\n",
       "0          0.346479            0.567759          0.566305           0.278064   \n",
       "1          0.806519            0.210021          0.432233           0.755722   \n",
       "2          0.472816            0.414180          0.392000           0.323463   \n",
       "3          0.552367            0.246957          0.322448           0.852632   \n",
       "4          0.261690            0.127679          0.364818           0.878298   \n",
       "\n",
       "   ...  Comedy_popularity  Mystery_popularity  Romance_popularity  \\\n",
       "0  ...           0.396000            0.712793            0.541227   \n",
       "1  ...           0.679838            0.259220            0.426036   \n",
       "2  ...           0.273183            0.421033            0.365621   \n",
       "3  ...           0.444481            0.308091            0.399573   \n",
       "4  ...           0.491229            0.209204            0.221586   \n",
       "\n",
       "   War_popularity  History_popularity  Music_popularity  Horror_popularity  \\\n",
       "0        0.225863            0.412364          0.423531           0.591450   \n",
       "1        0.531184            0.334463          0.564748           0.254578   \n",
       "2        0.506162            0.600060          0.323933           0.179368   \n",
       "3        0.664326            0.481618          0.753799           0.376901   \n",
       "4        0.930959            0.316377          0.968850           0.189650   \n",
       "\n",
       "   Documentary_popularity  TV Movie_popularity  Foreign_popularity  \n",
       "0                0.080598             0.600975            0.194948  \n",
       "1                0.095101             0.528660            0.113651  \n",
       "2                0.213653             0.318475            0.235542  \n",
       "3                0.265169             0.176973            0.351647  \n",
       "4                0.021941             0.143165            0.152209  \n",
       "\n",
       "[5 rows x 21 columns]"
      ]
     },
     "execution_count": 22,
     "metadata": {},
     "output_type": "execute_result"
    }
   ],
   "source": [
    "# Group by release_year and calculating the mean, reset index and call it as data frame not data series\n",
    "genresPopularities_df = genres_df.copy().groupby('release_year').mean().reset_index()[['release_year']]\n",
    "\n",
    "# Iterate through genres sepreatly as we take the related rows of this genre\n",
    "# And groub its rows by release_year to calculate the average popularity\n",
    "# OF every genre with respect to every release year\n",
    "for genre in genres_df.columns[2:]:\n",
    "    genresPopularities_df[genre + '_popularity'] = genres_df[genres_df[genre]==1][['release_year', 'popularity']].groupby('release_year').mean().reset_index()['popularity']\n",
    "    \n",
    "genresPopularities_df.head()    "
   ]
  },
  {
   "cell_type": "markdown",
   "metadata": {},
   "source": [
    "**Now, we can see which genre is the most popular for every year of the study**"
   ]
  },
  {
   "cell_type": "code",
   "execution_count": 23,
   "metadata": {},
   "outputs": [
    {
     "data": {
      "text/plain": [
       "release_year\n",
       "1960          Animation\n",
       "1961          Animation\n",
       "1962          Adventure\n",
       "1963             Action\n",
       "1964              Music\n",
       "1965          Animation\n",
       "1966           Thriller\n",
       "1967            Mystery\n",
       "1968    Science Fiction\n",
       "1969              Crime\n",
       "1970            Fantasy\n",
       "1971             Family\n",
       "1972              Crime\n",
       "1973             Family\n",
       "1974            Fantasy\n",
       "1975          Adventure\n",
       "1976              Crime\n",
       "1977             Action\n",
       "1978           Thriller\n",
       "1979             Action\n",
       "1980                War\n",
       "1981           Thriller\n",
       "1982    Science Fiction\n",
       "1983          Adventure\n",
       "1984             Family\n",
       "1985          Animation\n",
       "1986          Adventure\n",
       "1987          Animation\n",
       "1988          Animation\n",
       "1989             Family\n",
       "1990          Animation\n",
       "1991          Animation\n",
       "1992          Adventure\n",
       "1993            Western\n",
       "1994              Crime\n",
       "1995    Science Fiction\n",
       "1996                War\n",
       "1997    Science Fiction\n",
       "1998          Animation\n",
       "1999            Fantasy\n",
       "2000            Fantasy\n",
       "2001            Fantasy\n",
       "2002            Fantasy\n",
       "2003          Adventure\n",
       "2004    Science Fiction\n",
       "2005            Western\n",
       "2006            Western\n",
       "2007            Fantasy\n",
       "2008            Fantasy\n",
       "2009            Western\n",
       "2010          Adventure\n",
       "2011          Animation\n",
       "2012            Fantasy\n",
       "2013            Fantasy\n",
       "2014          Adventure\n",
       "2015          Adventure\n",
       "dtype: object"
      ]
     },
     "execution_count": 23,
     "metadata": {},
     "output_type": "execute_result"
    }
   ],
   "source": [
    "# Set release_year to be the index, transpose it to apply idxmax() And get the maximum popularity\n",
    "genresPopularities_df.set_index('release_year').T.idxmax().str[:-11]"
   ]
  },
  {
   "cell_type": "markdown",
   "metadata": {},
   "source": [
    ">**Here is 2 plots to see the change of popularities of 2 different generes over time**  \n",
    "**As the most popular genre in 1960 which is \"animation\" is actully became liss popular over time**  \n",
    "**On the other hand, the most popular genre in 2015 which is \"Adventure\" became so popular yeah but in just the last 10 years of the study**  "
   ]
  },
  {
   "cell_type": "code",
   "execution_count": 49,
   "metadata": {},
   "outputs": [
    {
     "data": {
      "image/png": "[encoded data removed]",
      "text/plain": [
       "<Figure size 432x288 with 1 Axes>"
      ]
     },
     "metadata": {
      "needs_background": "light"
     },
     "output_type": "display_data"
    }
   ],
   "source": [
    "# Plot the development of genres \n",
    "target_genre = 'Animation'\n",
    "genresPopularities_df.set_index('release_year')[[target_genre+'_popularity']].plot(kind='line')\n",
    "# include title and axes labels\n",
    "plt.title(target_genre+' popularity over release years');\n",
    "plt.xlabel(\"release year\");\n",
    "plt.ylabel(\"popularity score\");"
   ]
  },
  {
   "cell_type": "code",
   "execution_count": 50,
   "metadata": {},
   "outputs": [
    {
     "data": {
      "image/png": "[encoded data removed]",
      "text/plain": [
       "<Figure size 432x288 with 1 Axes>"
      ]
     },
     "metadata": {
      "needs_background": "light"
     },
     "output_type": "display_data"
    }
   ],
   "source": [
    "# Plot the development of genres \n",
    "target_genre = 'Adventure'\n",
    "genresPopularities_df.set_index('release_year')[[target_genre+'_popularity']].plot(kind='line')\n",
    "# include title and axes labels\n",
    "plt.title(target_genre+' popularity over release years');\n",
    "plt.xlabel(\"release year\");\n",
    "plt.ylabel(\"popularity score\");"
   ]
  },
  {
   "cell_type": "markdown",
   "metadata": {},
   "source": [
    ">**We can visualize the change of popularity of any genre in the dataset by changing the target_genre variable for a complete answer for the question, I will just be satisfied with ploting the \"Animation\" and \"Adventure\" genres.**"
   ]
  },
  {
   "cell_type": "markdown",
   "metadata": {},
   "source": [
    "### Q2. Which combinations of genres are most popular from year to year? dose combinations matters?"
   ]
  },
  {
   "cell_type": "markdown",
   "metadata": {},
   "source": [
    ">**This is an extension of the first question to see if a compinations of genres can affect the average popularity score for every year or not.**  \n",
    "**We need to add a column for every combination of genres to the \"generesPopularities_df\" data frame and apply the same steps to answer the question (if a movie has this combination we put 1, if not we put 0.)**"
   ]
  },
  {
   "cell_type": "markdown",
   "metadata": {},
   "source": [
    "**Iterate through combination of genres**"
   ]
  },
  {
   "cell_type": "code",
   "execution_count": 26,
   "metadata": {
    "scrolled": true
   },
   "outputs": [
    {
     "data": {
      "text/html": [
       "<div>\n",
       "<style scoped>\n",
       "    .dataframe tbody tr th:only-of-type {\n",
       "        vertical-align: middle;\n",
       "    }\n",
       "\n",
       "    .dataframe tbody tr th {\n",
       "        vertical-align: top;\n",
       "    }\n",
       "\n",
       "    .dataframe thead th {\n",
       "        text-align: right;\n",
       "    }\n",
       "</style>\n",
       "<table border=\"1\" class=\"dataframe\">\n",
       "  <thead>\n",
       "    <tr style=\"text-align: right;\">\n",
       "      <th></th>\n",
       "      <th>release_year</th>\n",
       "      <th>Action_popularity</th>\n",
       "      <th>Adventure_popularity</th>\n",
       "      <th>Science Fiction_popularity</th>\n",
       "      <th>Thriller_popularity</th>\n",
       "      <th>Fantasy_popularity</th>\n",
       "      <th>Crime_popularity</th>\n",
       "      <th>Western_popularity</th>\n",
       "      <th>Drama_popularity</th>\n",
       "      <th>Family_popularity</th>\n",
       "      <th>...</th>\n",
       "      <th>Foreign_Comedy_popularity</th>\n",
       "      <th>Foreign_Mystery_popularity</th>\n",
       "      <th>Foreign_Romance_popularity</th>\n",
       "      <th>Foreign_War_popularity</th>\n",
       "      <th>Foreign_History_popularity</th>\n",
       "      <th>Foreign_Music_popularity</th>\n",
       "      <th>Foreign_Horror_popularity</th>\n",
       "      <th>Foreign_Documentary_popularity</th>\n",
       "      <th>Foreign_TV Movie_popularity</th>\n",
       "      <th>Foreign_Foreign_popularity</th>\n",
       "    </tr>\n",
       "  </thead>\n",
       "  <tbody>\n",
       "    <tr>\n",
       "      <th>0</th>\n",
       "      <td>1960</td>\n",
       "      <td>0.590724</td>\n",
       "      <td>0.700981</td>\n",
       "      <td>0.327905</td>\n",
       "      <td>0.811910</td>\n",
       "      <td>0.428247</td>\n",
       "      <td>0.346479</td>\n",
       "      <td>0.567759</td>\n",
       "      <td>0.566305</td>\n",
       "      <td>0.278064</td>\n",
       "      <td>...</td>\n",
       "      <td>0.235542</td>\n",
       "      <td>0.205712</td>\n",
       "      <td>0.235542</td>\n",
       "      <td>0.194948</td>\n",
       "      <td>0.194948</td>\n",
       "      <td>0.210188</td>\n",
       "      <td>0.152209</td>\n",
       "      <td>0.013131</td>\n",
       "      <td>NaN</td>\n",
       "      <td>0.194948</td>\n",
       "    </tr>\n",
       "    <tr>\n",
       "      <th>1</th>\n",
       "      <td>1961</td>\n",
       "      <td>0.365913</td>\n",
       "      <td>0.767323</td>\n",
       "      <td>0.274103</td>\n",
       "      <td>0.760582</td>\n",
       "      <td>0.154073</td>\n",
       "      <td>0.806519</td>\n",
       "      <td>0.210021</td>\n",
       "      <td>0.432233</td>\n",
       "      <td>0.755722</td>\n",
       "      <td>...</td>\n",
       "      <td>0.380321</td>\n",
       "      <td>0.127505</td>\n",
       "      <td>0.252265</td>\n",
       "      <td>0.207288</td>\n",
       "      <td>0.092150</td>\n",
       "      <td>NaN</td>\n",
       "      <td>0.004770</td>\n",
       "      <td>0.011723</td>\n",
       "      <td>NaN</td>\n",
       "      <td>0.113651</td>\n",
       "    </tr>\n",
       "    <tr>\n",
       "      <th>2</th>\n",
       "      <td>1962</td>\n",
       "      <td>0.708945</td>\n",
       "      <td>0.942513</td>\n",
       "      <td>0.179212</td>\n",
       "      <td>0.719929</td>\n",
       "      <td>0.235542</td>\n",
       "      <td>0.472816</td>\n",
       "      <td>0.414180</td>\n",
       "      <td>0.392000</td>\n",
       "      <td>0.323463</td>\n",
       "      <td>...</td>\n",
       "      <td>0.414316</td>\n",
       "      <td>0.121984</td>\n",
       "      <td>0.128025</td>\n",
       "      <td>0.138624</td>\n",
       "      <td>0.275662</td>\n",
       "      <td>NaN</td>\n",
       "      <td>0.148192</td>\n",
       "      <td>0.140910</td>\n",
       "      <td>NaN</td>\n",
       "      <td>0.235542</td>\n",
       "    </tr>\n",
       "    <tr>\n",
       "      <th>3</th>\n",
       "      <td>1963</td>\n",
       "      <td>0.951729</td>\n",
       "      <td>0.728487</td>\n",
       "      <td>0.467835</td>\n",
       "      <td>0.622580</td>\n",
       "      <td>0.214071</td>\n",
       "      <td>0.552367</td>\n",
       "      <td>0.246957</td>\n",
       "      <td>0.322448</td>\n",
       "      <td>0.852632</td>\n",
       "      <td>...</td>\n",
       "      <td>0.166624</td>\n",
       "      <td>0.443952</td>\n",
       "      <td>0.143070</td>\n",
       "      <td>0.267577</td>\n",
       "      <td>0.195606</td>\n",
       "      <td>NaN</td>\n",
       "      <td>0.140710</td>\n",
       "      <td>0.096396</td>\n",
       "      <td>NaN</td>\n",
       "      <td>0.351647</td>\n",
       "    </tr>\n",
       "    <tr>\n",
       "      <th>4</th>\n",
       "      <td>1964</td>\n",
       "      <td>0.813087</td>\n",
       "      <td>0.736431</td>\n",
       "      <td>0.226636</td>\n",
       "      <td>0.343072</td>\n",
       "      <td>0.599791</td>\n",
       "      <td>0.261690</td>\n",
       "      <td>0.127679</td>\n",
       "      <td>0.364818</td>\n",
       "      <td>0.878298</td>\n",
       "      <td>...</td>\n",
       "      <td>0.166725</td>\n",
       "      <td>0.215030</td>\n",
       "      <td>0.093760</td>\n",
       "      <td>NaN</td>\n",
       "      <td>0.201869</td>\n",
       "      <td>NaN</td>\n",
       "      <td>0.205712</td>\n",
       "      <td>0.097543</td>\n",
       "      <td>NaN</td>\n",
       "      <td>0.152209</td>\n",
       "    </tr>\n",
       "  </tbody>\n",
       "</table>\n",
       "<p>5 rows × 421 columns</p>\n",
       "</div>"
      ],
      "text/plain": [
       "   release_year  Action_popularity  Adventure_popularity  \\\n",
       "0          1960           0.590724              0.700981   \n",
       "1          1961           0.365913              0.767323   \n",
       "2          1962           0.708945              0.942513   \n",
       "3          1963           0.951729              0.728487   \n",
       "4          1964           0.813087              0.736431   \n",
       "\n",
       "   Science Fiction_popularity  Thriller_popularity  Fantasy_popularity  \\\n",
       "0                    0.327905             0.811910            0.428247   \n",
       "1                    0.274103             0.760582            0.154073   \n",
       "2                    0.179212             0.719929            0.235542   \n",
       "3                    0.467835             0.622580            0.214071   \n",
       "4                    0.226636             0.343072            0.599791   \n",
       "\n",
       "   Crime_popularity  Western_popularity  Drama_popularity  Family_popularity  \\\n",
       "0          0.346479            0.567759          0.566305           0.278064   \n",
       "1          0.806519            0.210021          0.432233           0.755722   \n",
       "2          0.472816            0.414180          0.392000           0.323463   \n",
       "3          0.552367            0.246957          0.322448           0.852632   \n",
       "4          0.261690            0.127679          0.364818           0.878298   \n",
       "\n",
       "   ...  Foreign_Comedy_popularity  Foreign_Mystery_popularity  \\\n",
       "0  ...                   0.235542                    0.205712   \n",
       "1  ...                   0.380321                    0.127505   \n",
       "2  ...                   0.414316                    0.121984   \n",
       "3  ...                   0.166624                    0.443952   \n",
       "4  ...                   0.166725                    0.215030   \n",
       "\n",
       "   Foreign_Romance_popularity  Foreign_War_popularity  \\\n",
       "0                    0.235542                0.194948   \n",
       "1                    0.252265                0.207288   \n",
       "2                    0.128025                0.138624   \n",
       "3                    0.143070                0.267577   \n",
       "4                    0.093760                     NaN   \n",
       "\n",
       "   Foreign_History_popularity  Foreign_Music_popularity  \\\n",
       "0                    0.194948                  0.210188   \n",
       "1                    0.092150                       NaN   \n",
       "2                    0.275662                       NaN   \n",
       "3                    0.195606                       NaN   \n",
       "4                    0.201869                       NaN   \n",
       "\n",
       "   Foreign_Horror_popularity  Foreign_Documentary_popularity  \\\n",
       "0                   0.152209                        0.013131   \n",
       "1                   0.004770                        0.011723   \n",
       "2                   0.148192                        0.140910   \n",
       "3                   0.140710                        0.096396   \n",
       "4                   0.205712                        0.097543   \n",
       "\n",
       "   Foreign_TV Movie_popularity  Foreign_Foreign_popularity  \n",
       "0                          NaN                    0.194948  \n",
       "1                          NaN                    0.113651  \n",
       "2                          NaN                    0.235542  \n",
       "3                          NaN                    0.351647  \n",
       "4                          NaN                    0.152209  \n",
       "\n",
       "[5 rows x 421 columns]"
      ]
     },
     "execution_count": 26,
     "metadata": {},
     "output_type": "execute_result"
    }
   ],
   "source": [
    "# Iterate through genres 2 times to introduce the combinations\n",
    "for genre2 in genres_df.columns[2:]:\n",
    "    for genre1 in genres_df.columns[2:]:\n",
    "        mask = np.logical_and(genres_df[genre1]==1, genres_df[genre2]==1)\n",
    "        genresPopularities_df[genre2+'_'+ genre1 + '_popularity'] = genres_df[mask][['release_year', 'popularity']].groupby('release_year').mean().reset_index()['popularity']\n",
    "    \n",
    "genresPopularities_df.head() "
   ]
  },
  {
   "cell_type": "markdown",
   "metadata": {},
   "source": [
    "**Now, we can see the popular compinations over the years and compare it to the last questions results to see if calculating the popularity of combinations actually changed anything or not**"
   ]
  },
  {
   "cell_type": "code",
   "execution_count": 27,
   "metadata": {},
   "outputs": [
    {
     "data": {
      "text/html": [
       "<div>\n",
       "<style scoped>\n",
       "    .dataframe tbody tr th:only-of-type {\n",
       "        vertical-align: middle;\n",
       "    }\n",
       "\n",
       "    .dataframe tbody tr th {\n",
       "        vertical-align: top;\n",
       "    }\n",
       "\n",
       "    .dataframe thead th {\n",
       "        text-align: right;\n",
       "    }\n",
       "</style>\n",
       "<table border=\"1\" class=\"dataframe\">\n",
       "  <thead>\n",
       "    <tr style=\"text-align: right;\">\n",
       "      <th></th>\n",
       "      <th>Most_popular_single_genres</th>\n",
       "      <th>Most_popular_combinations_of_genres</th>\n",
       "    </tr>\n",
       "    <tr>\n",
       "      <th>release_year</th>\n",
       "      <th></th>\n",
       "      <th></th>\n",
       "    </tr>\n",
       "  </thead>\n",
       "  <tbody>\n",
       "    <tr>\n",
       "      <th>1960</th>\n",
       "      <td>Animation</td>\n",
       "      <td>Animation_Romance</td>\n",
       "    </tr>\n",
       "    <tr>\n",
       "      <th>1961</th>\n",
       "      <td>Animation</td>\n",
       "      <td>Adventure_Thriller</td>\n",
       "    </tr>\n",
       "    <tr>\n",
       "      <th>1962</th>\n",
       "      <td>Adventure</td>\n",
       "      <td>Fantasy_War</td>\n",
       "    </tr>\n",
       "    <tr>\n",
       "      <th>1963</th>\n",
       "      <td>Action</td>\n",
       "      <td>Western_Mystery</td>\n",
       "    </tr>\n",
       "    <tr>\n",
       "      <th>1964</th>\n",
       "      <td>Music</td>\n",
       "      <td>Action_Adventure</td>\n",
       "    </tr>\n",
       "    <tr>\n",
       "      <th>1965</th>\n",
       "      <td>Animation</td>\n",
       "      <td>Action_Horror</td>\n",
       "    </tr>\n",
       "    <tr>\n",
       "      <th>1966</th>\n",
       "      <td>Thriller</td>\n",
       "      <td>Fantasy_Crime</td>\n",
       "    </tr>\n",
       "    <tr>\n",
       "      <th>1967</th>\n",
       "      <td>Mystery</td>\n",
       "      <td>Animation_Horror</td>\n",
       "    </tr>\n",
       "    <tr>\n",
       "      <th>1968</th>\n",
       "      <td>Science Fiction</td>\n",
       "      <td>Action_Science Fiction</td>\n",
       "    </tr>\n",
       "    <tr>\n",
       "      <th>1969</th>\n",
       "      <td>Crime</td>\n",
       "      <td>Science Fiction_Family</td>\n",
       "    </tr>\n",
       "    <tr>\n",
       "      <th>1970</th>\n",
       "      <td>Fantasy</td>\n",
       "      <td>Crime_Western</td>\n",
       "    </tr>\n",
       "    <tr>\n",
       "      <th>1971</th>\n",
       "      <td>Family</td>\n",
       "      <td>Fantasy_Mystery</td>\n",
       "    </tr>\n",
       "    <tr>\n",
       "      <th>1972</th>\n",
       "      <td>Crime</td>\n",
       "      <td>Adventure_Science Fiction</td>\n",
       "    </tr>\n",
       "    <tr>\n",
       "      <th>1973</th>\n",
       "      <td>Family</td>\n",
       "      <td>Science Fiction_Fantasy</td>\n",
       "    </tr>\n",
       "    <tr>\n",
       "      <th>1974</th>\n",
       "      <td>Fantasy</td>\n",
       "      <td>Family_Music</td>\n",
       "    </tr>\n",
       "    <tr>\n",
       "      <th>1975</th>\n",
       "      <td>Adventure</td>\n",
       "      <td>Adventure_Science Fiction</td>\n",
       "    </tr>\n",
       "    <tr>\n",
       "      <th>1976</th>\n",
       "      <td>Crime</td>\n",
       "      <td>Adventure_Animation</td>\n",
       "    </tr>\n",
       "    <tr>\n",
       "      <th>1977</th>\n",
       "      <td>Action</td>\n",
       "      <td>Fantasy_Animation</td>\n",
       "    </tr>\n",
       "    <tr>\n",
       "      <th>1978</th>\n",
       "      <td>Thriller</td>\n",
       "      <td>Fantasy_Music</td>\n",
       "    </tr>\n",
       "    <tr>\n",
       "      <th>1979</th>\n",
       "      <td>Action</td>\n",
       "      <td>Action_Horror</td>\n",
       "    </tr>\n",
       "    <tr>\n",
       "      <th>1980</th>\n",
       "      <td>War</td>\n",
       "      <td>Thriller_Fantasy</td>\n",
       "    </tr>\n",
       "    <tr>\n",
       "      <th>1981</th>\n",
       "      <td>Thriller</td>\n",
       "      <td>Adventure_Animation</td>\n",
       "    </tr>\n",
       "    <tr>\n",
       "      <th>1982</th>\n",
       "      <td>Science Fiction</td>\n",
       "      <td>Science Fiction_Crime</td>\n",
       "    </tr>\n",
       "    <tr>\n",
       "      <th>1983</th>\n",
       "      <td>Adventure</td>\n",
       "      <td>Adventure_Romance</td>\n",
       "    </tr>\n",
       "    <tr>\n",
       "      <th>1984</th>\n",
       "      <td>Family</td>\n",
       "      <td>Thriller_History</td>\n",
       "    </tr>\n",
       "    <tr>\n",
       "      <th>1985</th>\n",
       "      <td>Animation</td>\n",
       "      <td>Adventure_Mystery</td>\n",
       "    </tr>\n",
       "    <tr>\n",
       "      <th>1986</th>\n",
       "      <td>Adventure</td>\n",
       "      <td>Science Fiction_Mystery</td>\n",
       "    </tr>\n",
       "    <tr>\n",
       "      <th>1987</th>\n",
       "      <td>Animation</td>\n",
       "      <td>Adventure_Horror</td>\n",
       "    </tr>\n",
       "    <tr>\n",
       "      <th>1988</th>\n",
       "      <td>Animation</td>\n",
       "      <td>Adventure_Western</td>\n",
       "    </tr>\n",
       "    <tr>\n",
       "      <th>1989</th>\n",
       "      <td>Family</td>\n",
       "      <td>Adventure_Mystery</td>\n",
       "    </tr>\n",
       "    <tr>\n",
       "      <th>1990</th>\n",
       "      <td>Animation</td>\n",
       "      <td>Science Fiction_Mystery</td>\n",
       "    </tr>\n",
       "    <tr>\n",
       "      <th>1991</th>\n",
       "      <td>Animation</td>\n",
       "      <td>Romance_Music</td>\n",
       "    </tr>\n",
       "    <tr>\n",
       "      <th>1992</th>\n",
       "      <td>Adventure</td>\n",
       "      <td>Adventure_War</td>\n",
       "    </tr>\n",
       "    <tr>\n",
       "      <th>1993</th>\n",
       "      <td>Western</td>\n",
       "      <td>Western_Drama</td>\n",
       "    </tr>\n",
       "    <tr>\n",
       "      <th>1994</th>\n",
       "      <td>Crime</td>\n",
       "      <td>Adventure_Fantasy</td>\n",
       "    </tr>\n",
       "    <tr>\n",
       "      <th>1995</th>\n",
       "      <td>Science Fiction</td>\n",
       "      <td>Action_Mystery</td>\n",
       "    </tr>\n",
       "    <tr>\n",
       "      <th>1996</th>\n",
       "      <td>War</td>\n",
       "      <td>Family_Romance</td>\n",
       "    </tr>\n",
       "    <tr>\n",
       "      <th>1997</th>\n",
       "      <td>Science Fiction</td>\n",
       "      <td>Fantasy_Romance</td>\n",
       "    </tr>\n",
       "    <tr>\n",
       "      <th>1998</th>\n",
       "      <td>Animation</td>\n",
       "      <td>War_History</td>\n",
       "    </tr>\n",
       "    <tr>\n",
       "      <th>1999</th>\n",
       "      <td>Fantasy</td>\n",
       "      <td>Action_Family</td>\n",
       "    </tr>\n",
       "    <tr>\n",
       "      <th>2000</th>\n",
       "      <td>Fantasy</td>\n",
       "      <td>Science Fiction_Family</td>\n",
       "    </tr>\n",
       "    <tr>\n",
       "      <th>2001</th>\n",
       "      <td>Fantasy</td>\n",
       "      <td>Adventure_Crime</td>\n",
       "    </tr>\n",
       "    <tr>\n",
       "      <th>2002</th>\n",
       "      <td>Fantasy</td>\n",
       "      <td>Action_Fantasy</td>\n",
       "    </tr>\n",
       "    <tr>\n",
       "      <th>2003</th>\n",
       "      <td>Adventure</td>\n",
       "      <td>Science Fiction_Fantasy</td>\n",
       "    </tr>\n",
       "    <tr>\n",
       "      <th>2004</th>\n",
       "      <td>Science Fiction</td>\n",
       "      <td>Adventure_Science Fiction</td>\n",
       "    </tr>\n",
       "    <tr>\n",
       "      <th>2005</th>\n",
       "      <td>Western</td>\n",
       "      <td>Action_Science Fiction</td>\n",
       "    </tr>\n",
       "    <tr>\n",
       "      <th>2006</th>\n",
       "      <td>Western</td>\n",
       "      <td>Action_Science Fiction</td>\n",
       "    </tr>\n",
       "    <tr>\n",
       "      <th>2007</th>\n",
       "      <td>Fantasy</td>\n",
       "      <td>Adventure_Fantasy</td>\n",
       "    </tr>\n",
       "    <tr>\n",
       "      <th>2008</th>\n",
       "      <td>Fantasy</td>\n",
       "      <td>Adventure_Science Fiction</td>\n",
       "    </tr>\n",
       "    <tr>\n",
       "      <th>2009</th>\n",
       "      <td>Western</td>\n",
       "      <td>Adventure_Science Fiction</td>\n",
       "    </tr>\n",
       "    <tr>\n",
       "      <th>2010</th>\n",
       "      <td>Adventure</td>\n",
       "      <td>Science Fiction_Thriller</td>\n",
       "    </tr>\n",
       "    <tr>\n",
       "      <th>2011</th>\n",
       "      <td>Animation</td>\n",
       "      <td>Adventure_Thriller</td>\n",
       "    </tr>\n",
       "    <tr>\n",
       "      <th>2012</th>\n",
       "      <td>Fantasy</td>\n",
       "      <td>Action_Adventure</td>\n",
       "    </tr>\n",
       "    <tr>\n",
       "      <th>2013</th>\n",
       "      <td>Fantasy</td>\n",
       "      <td>Action_Thriller</td>\n",
       "    </tr>\n",
       "    <tr>\n",
       "      <th>2014</th>\n",
       "      <td>Adventure</td>\n",
       "      <td>Adventure_Drama</td>\n",
       "    </tr>\n",
       "    <tr>\n",
       "      <th>2015</th>\n",
       "      <td>Adventure</td>\n",
       "      <td>Action_Adventure</td>\n",
       "    </tr>\n",
       "  </tbody>\n",
       "</table>\n",
       "</div>"
      ],
      "text/plain": [
       "             Most_popular_single_genres Most_popular_combinations_of_genres\n",
       "release_year                                                               \n",
       "1960                          Animation                   Animation_Romance\n",
       "1961                          Animation                  Adventure_Thriller\n",
       "1962                          Adventure                         Fantasy_War\n",
       "1963                             Action                     Western_Mystery\n",
       "1964                              Music                    Action_Adventure\n",
       "1965                          Animation                       Action_Horror\n",
       "1966                           Thriller                       Fantasy_Crime\n",
       "1967                            Mystery                    Animation_Horror\n",
       "1968                    Science Fiction              Action_Science Fiction\n",
       "1969                              Crime              Science Fiction_Family\n",
       "1970                            Fantasy                       Crime_Western\n",
       "1971                             Family                     Fantasy_Mystery\n",
       "1972                              Crime           Adventure_Science Fiction\n",
       "1973                             Family             Science Fiction_Fantasy\n",
       "1974                            Fantasy                        Family_Music\n",
       "1975                          Adventure           Adventure_Science Fiction\n",
       "1976                              Crime                 Adventure_Animation\n",
       "1977                             Action                   Fantasy_Animation\n",
       "1978                           Thriller                       Fantasy_Music\n",
       "1979                             Action                       Action_Horror\n",
       "1980                                War                    Thriller_Fantasy\n",
       "1981                           Thriller                 Adventure_Animation\n",
       "1982                    Science Fiction               Science Fiction_Crime\n",
       "1983                          Adventure                   Adventure_Romance\n",
       "1984                             Family                    Thriller_History\n",
       "1985                          Animation                   Adventure_Mystery\n",
       "1986                          Adventure             Science Fiction_Mystery\n",
       "1987                          Animation                    Adventure_Horror\n",
       "1988                          Animation                   Adventure_Western\n",
       "1989                             Family                   Adventure_Mystery\n",
       "1990                          Animation             Science Fiction_Mystery\n",
       "1991                          Animation                       Romance_Music\n",
       "1992                          Adventure                       Adventure_War\n",
       "1993                            Western                       Western_Drama\n",
       "1994                              Crime                   Adventure_Fantasy\n",
       "1995                    Science Fiction                      Action_Mystery\n",
       "1996                                War                      Family_Romance\n",
       "1997                    Science Fiction                     Fantasy_Romance\n",
       "1998                          Animation                         War_History\n",
       "1999                            Fantasy                       Action_Family\n",
       "2000                            Fantasy              Science Fiction_Family\n",
       "2001                            Fantasy                     Adventure_Crime\n",
       "2002                            Fantasy                      Action_Fantasy\n",
       "2003                          Adventure             Science Fiction_Fantasy\n",
       "2004                    Science Fiction           Adventure_Science Fiction\n",
       "2005                            Western              Action_Science Fiction\n",
       "2006                            Western              Action_Science Fiction\n",
       "2007                            Fantasy                   Adventure_Fantasy\n",
       "2008                            Fantasy           Adventure_Science Fiction\n",
       "2009                            Western           Adventure_Science Fiction\n",
       "2010                          Adventure            Science Fiction_Thriller\n",
       "2011                          Animation                  Adventure_Thriller\n",
       "2012                            Fantasy                    Action_Adventure\n",
       "2013                            Fantasy                     Action_Thriller\n",
       "2014                          Adventure                     Adventure_Drama\n",
       "2015                          Adventure                    Action_Adventure"
      ]
     },
     "execution_count": 27,
     "metadata": {},
     "output_type": "execute_result"
    }
   ],
   "source": [
    "# Concatenate the results of the previous quesion with the combinations results to compare them\n",
    "pd.concat([genresPopularities_df.iloc[:,:21].set_index('release_year').T.idxmax().str[:-11],\n",
    "           genresPopularities_df.set_index('release_year').T.idxmax().str[:-11]], axis=1).rename(\n",
    "    columns={0:'Most_popular_single_genres',1:'Most_popular_combinations_of_genres'})"
   ]
  },
  {
   "cell_type": "markdown",
   "metadata": {},
   "source": [
    ">**Now, we see that combnations matters as the results generally changed in most of years.**  \n",
    "**As in most of the years, the most popular combination didn't contain the most popular gener (for example 2008, 2009, 2010, 2012, 2013, ... etc.)**  \n",
    "**And for some other years the most popular combination contained the most popular gener (for example 2014, 2015, ...etc.)**"
   ]
  },
  {
   "cell_type": "markdown",
   "metadata": {},
   "source": [
    "### Q3. What kinds of proerties are associated with movies that have high revenues?"
   ]
  },
  {
   "cell_type": "markdown",
   "metadata": {},
   "source": [
    ">**This question can be answered by checking the correlation between the revenue_adj feature and the other featrues, is they are correlated then they are generally associated with the movies with high revenues.**"
   ]
  },
  {
   "cell_type": "markdown",
   "metadata": {},
   "source": [
    "**Remove zeros and NAN values so they don't have effects on the correlation results**"
   ]
  },
  {
   "cell_type": "code",
   "execution_count": 28,
   "metadata": {},
   "outputs": [],
   "source": [
    "revenue_df = moviesWithGenres_df.copy()\n",
    "revenue_df[revenue_df['revenue_adj']==0.0] = np.nan\n",
    "revenue_df.dropna(axis=0, subset=['revenue_adj'], inplace=True)"
   ]
  },
  {
   "cell_type": "markdown",
   "metadata": {},
   "source": [
    "**Sort the correlation values in a descending order.**"
   ]
  },
  {
   "cell_type": "code",
   "execution_count": 29,
   "metadata": {},
   "outputs": [
    {
     "data": {
      "text/plain": [
       "id            id              1.000000\n",
       "Western       Western         1.000000\n",
       "vote_count    vote_count      1.000000\n",
       "vote_average  vote_average    1.000000\n",
       "release_year  release_year    1.000000\n",
       "                                ...   \n",
       "Romance       Thriller       -0.215761\n",
       "Comedy        runtime        -0.243117\n",
       "runtime       Comedy         -0.243117\n",
       "Thriller      Comedy         -0.367520\n",
       "Comedy        Thriller       -0.367520\n",
       "Length: 784, dtype: float64"
      ]
     },
     "execution_count": 29,
     "metadata": {},
     "output_type": "execute_result"
    }
   ],
   "source": [
    "feature_corr = revenue_df.corr().unstack().sort_values(ascending=False)\n",
    "feature_corr"
   ]
  },
  {
   "cell_type": "markdown",
   "metadata": {},
   "source": [
    "**Visualize the highest correlations with the revenue_adj feature only, we display positive correlations bigger than 0.5**"
   ]
  },
  {
   "cell_type": "code",
   "execution_count": 55,
   "metadata": {
    "scrolled": true
   },
   "outputs": [
    {
     "data": {
      "image/png": "[encoded data removed]",
      "text/plain": [
       "<Figure size 432x288 with 1 Axes>"
      ]
     },
     "metadata": {
      "needs_background": "light"
     },
     "output_type": "display_data"
    }
   ],
   "source": [
    "# Get the corr. scores between 0.5 and 1, reset index to adress the 2 levels\n",
    "corr_df = feature_corr[(abs(feature_corr)>0.5) & (abs(feature_corr)<1)].reset_index()\n",
    "\n",
    "# Pick just the revenue_adj which is our targeted feature to study\n",
    "corr_df = corr_df[corr_df['level_0'] == 'revenue_adj']\n",
    "\n",
    "# Drop level 0 we already got all the revenue_adj relations\n",
    "# Set level 1 as index and draw the barh chart\n",
    "corr_df.drop(columns='level_0').set_index('level_1')[::-1].plot(kind='barh')\n",
    "\n",
    "# include title and axes labels\n",
    "plt.title('Correlation with revenue_adj');\n",
    "plt.xlabel(\"Correlation Score\");\n",
    "plt.ylabel(\"Correlation Features\");"
   ]
  },
  {
   "cell_type": "markdown",
   "metadata": {},
   "source": [
    ">**So yeah a high revenue moive will generally have:  \n",
    "1- High vote_count (as a lot of people saw it and voted for it.)  \n",
    "2- High budget.  \n",
    "3- High popularity.**"
   ]
  },
  {
   "cell_type": "markdown",
   "metadata": {},
   "source": [
    "### Q4. Who are the top 10 production companies in terms of number of movies preduced and the total earnings (revenu_adj - budget_adj) from thair movies?"
   ]
  },
  {
   "cell_type": "markdown",
   "metadata": {},
   "source": [
    ">**This question and the next 2 questions to it, all has a simillar approach so they can be answered.**\n",
    "\n",
    ">**1- We choose the related featrues to the question (in this case: production_companies, budget_adj/revenue_adj, and popularity.)  \n",
    "2- We drop NAN values with respect to our main featrue 'production_companies'.  \n",
    "3- We collect the unique values of the production_companies in uniqueCompanies list and then we construct the uniqueCompanies_df dataframe.  \n",
    "4- The last step is to calculate the total earnings, and the average popularities of the movies for each and every company sepratly to see which ones are included in the Top 10 list.**"
   ]
  },
  {
   "cell_type": "code",
   "execution_count": 31,
   "metadata": {},
   "outputs": [],
   "source": [
    "# Choose  therelated featrues to the question which are: \n",
    "#  production_companies, budget_adj/revenue_adj, and popularity\n",
    "company_df = df_movies.loc[:, ['popularity', 'budget_adj', \n",
    "                               'revenue_adj','production_companies']].copy()\n",
    "\n",
    "# Drop NAN values with respect to our main featrue 'production_companies'\n",
    "company_df.dropna(axis=0, subset=['production_companies'], inplace=True)\n",
    "\n",
    "# Split the values of the companies from strings to lists\n",
    "company_df['production_companies'] = company_df['production_companies'].str.split('|')\n",
    "\n",
    "# Collect the unique values of the production_companies in uniqueCompanies list\n",
    "uniqueCompanies = []\n",
    "for j in company_df['production_companies'].values:\n",
    "    for i in j:\n",
    "        uniqueCompanies.append(i)\n",
    "uniqueCompanies = list(set(uniqueCompanies))  # To keep only the unique values in the list\n",
    "\n",
    "# Construct the uniqueCompanies_df dataframe.\n",
    "uniqueCompanies_df = pd.DataFrame(uniqueCompanies).rename(columns={0: 'company_name'})\n",
    "uniqueCompanies_df['total_earnings'] = 0\n",
    "uniqueCompanies_df['average_popularity'] = 0"
   ]
  },
  {
   "cell_type": "code",
   "execution_count": 32,
   "metadata": {},
   "outputs": [],
   "source": [
    "# Remaking the first 2 steps to Undo the splitting step of splitting strings into lists\n",
    "# I did that cause Iterating through strings was easier and faster.\n",
    "company_df = df_movies.loc[:, ['popularity', 'budget_adj', 'revenue_adj','production_companies']].copy()\n",
    "company_df.dropna(axis=0, subset=['production_companies'], inplace=True) #Dropping NAN companies values\n",
    "uniqueCompanies_df.set_index('company_name', inplace=True)\n",
    "\n",
    "# Iterate through uniqueCompanies and calculate average popularites and total earning for each of them\n",
    "# Total Earnings are calculated as the difference between revenue_adj, and budget_adj\n",
    "for company in uniqueCompanies:\n",
    "    matching = [i for i, s in enumerate(company_df['production_companies'].str[:]) if company in s]\n",
    "    uniqueCompanies_df.loc[company, 'average_popularity'] = company_df.iloc[matching, :]['popularity'].mean()\n",
    "    uniqueCompanies_df.loc[company, 'total_earnings'] = company_df.iloc[matching, :]['revenue_adj'].sum() - company_df.iloc[matching, :]['budget_adj'].sum()"
   ]
  },
  {
   "cell_type": "markdown",
   "metadata": {},
   "source": [
    ">**SO, the Top 10 Companies in terms of total earnings.**  \n",
    "**The top company is Entertainment with total earnings of over than 95 Billion Dollar,\n",
    "the second is Fox with total earnings of over 52 Billion Dollar ...etc.**"
   ]
  },
  {
   "cell_type": "code",
   "execution_count": 33,
   "metadata": {},
   "outputs": [
    {
     "data": {
      "text/html": [
       "<div>\n",
       "<style scoped>\n",
       "    .dataframe tbody tr th:only-of-type {\n",
       "        vertical-align: middle;\n",
       "    }\n",
       "\n",
       "    .dataframe tbody tr th {\n",
       "        vertical-align: top;\n",
       "    }\n",
       "\n",
       "    .dataframe thead th {\n",
       "        text-align: right;\n",
       "    }\n",
       "</style>\n",
       "<table border=\"1\" class=\"dataframe\">\n",
       "  <thead>\n",
       "    <tr style=\"text-align: right;\">\n",
       "      <th></th>\n",
       "      <th>company_name</th>\n",
       "      <th>total_earnings</th>\n",
       "    </tr>\n",
       "  </thead>\n",
       "  <tbody>\n",
       "    <tr>\n",
       "      <th>0</th>\n",
       "      <td>Entertainment</td>\n",
       "      <td>9.536683e+10</td>\n",
       "    </tr>\n",
       "    <tr>\n",
       "      <th>1</th>\n",
       "      <td>Fox</td>\n",
       "      <td>5.206966e+10</td>\n",
       "    </tr>\n",
       "    <tr>\n",
       "      <th>2</th>\n",
       "      <td>Universal</td>\n",
       "      <td>4.760498e+10</td>\n",
       "    </tr>\n",
       "    <tr>\n",
       "      <th>3</th>\n",
       "      <td>Warner Bros.</td>\n",
       "      <td>4.725858e+10</td>\n",
       "    </tr>\n",
       "    <tr>\n",
       "      <th>4</th>\n",
       "      <td>Universal Pictures</td>\n",
       "      <td>4.542582e+10</td>\n",
       "    </tr>\n",
       "    <tr>\n",
       "      <th>5</th>\n",
       "      <td>Twentieth Century Fox</td>\n",
       "      <td>4.263187e+10</td>\n",
       "    </tr>\n",
       "    <tr>\n",
       "      <th>6</th>\n",
       "      <td>Paramount</td>\n",
       "      <td>4.094018e+10</td>\n",
       "    </tr>\n",
       "    <tr>\n",
       "      <th>7</th>\n",
       "      <td>Paramount Pictures</td>\n",
       "      <td>4.032439e+10</td>\n",
       "    </tr>\n",
       "    <tr>\n",
       "      <th>8</th>\n",
       "      <td>Twentieth Century Fox Film Corporation</td>\n",
       "      <td>3.914289e+10</td>\n",
       "    </tr>\n",
       "    <tr>\n",
       "      <th>9</th>\n",
       "      <td>Columbia Pictures</td>\n",
       "      <td>3.185521e+10</td>\n",
       "    </tr>\n",
       "  </tbody>\n",
       "</table>\n",
       "</div>"
      ],
      "text/plain": [
       "                             company_name  total_earnings\n",
       "0                           Entertainment    9.536683e+10\n",
       "1                                     Fox    5.206966e+10\n",
       "2                               Universal    4.760498e+10\n",
       "3                            Warner Bros.    4.725858e+10\n",
       "4                      Universal Pictures    4.542582e+10\n",
       "5                   Twentieth Century Fox    4.263187e+10\n",
       "6                               Paramount    4.094018e+10\n",
       "7                      Paramount Pictures    4.032439e+10\n",
       "8  Twentieth Century Fox Film Corporation    3.914289e+10\n",
       "9                       Columbia Pictures    3.185521e+10"
      ]
     },
     "execution_count": 33,
     "metadata": {},
     "output_type": "execute_result"
    }
   ],
   "source": [
    "# Sort by average_popularity, keep the best 10 (Drop the average_popularity column)\n",
    "uniqueCompanies_df.sort_values(by='total_earnings',ascending=False)[:10].reset_index().drop(columns='average_popularity')"
   ]
  },
  {
   "cell_type": "code",
   "execution_count": 64,
   "metadata": {},
   "outputs": [
    {
     "data": {
      "image/png": "[encoded data removed]",
      "text/plain": [
       "<Figure size 432x288 with 1 Axes>"
      ]
     },
     "metadata": {
      "needs_background": "light"
     },
     "output_type": "display_data"
    }
   ],
   "source": [
    "# Sort by average_popularity, keep the best 10, and plot the barh chart\n",
    "top10_companies = uniqueCompanies_df.sort_values(by='total_earnings',ascending=False).drop(columns='average_popularity')[:10]\n",
    "top10_companies[::-1].plot(kind='barh', title='Top 10 Companies in Total Earnings');plt.xlabel(\"total_earnings\");"
   ]
  },
  {
   "cell_type": "markdown",
   "metadata": {},
   "source": [
    ">**The Top 10 Companies in terms of popularity of their produced movies.**  \n",
    "**The top company is Bulletproof Cupid, the second is Fuji Television Network ...etc.**"
   ]
  },
  {
   "cell_type": "code",
   "execution_count": 35,
   "metadata": {},
   "outputs": [
    {
     "data": {
      "text/html": [
       "<div>\n",
       "<style scoped>\n",
       "    .dataframe tbody tr th:only-of-type {\n",
       "        vertical-align: middle;\n",
       "    }\n",
       "\n",
       "    .dataframe tbody tr th {\n",
       "        vertical-align: top;\n",
       "    }\n",
       "\n",
       "    .dataframe thead th {\n",
       "        text-align: right;\n",
       "    }\n",
       "</style>\n",
       "<table border=\"1\" class=\"dataframe\">\n",
       "  <thead>\n",
       "    <tr style=\"text-align: right;\">\n",
       "      <th></th>\n",
       "      <th>company_name</th>\n",
       "      <th>average_popularity</th>\n",
       "    </tr>\n",
       "  </thead>\n",
       "  <tbody>\n",
       "    <tr>\n",
       "      <th>0</th>\n",
       "      <td>Bulletproof Cupid</td>\n",
       "      <td>14.311205</td>\n",
       "    </tr>\n",
       "    <tr>\n",
       "      <th>1</th>\n",
       "      <td>Fuji Television Network</td>\n",
       "      <td>12.777401</td>\n",
       "    </tr>\n",
       "    <tr>\n",
       "      <th>2</th>\n",
       "      <td>DefyNite Films</td>\n",
       "      <td>11.422751</td>\n",
       "    </tr>\n",
       "    <tr>\n",
       "      <th>3</th>\n",
       "      <td>Truenorth Productions</td>\n",
       "      <td>11.173104</td>\n",
       "    </tr>\n",
       "    <tr>\n",
       "      <th>4</th>\n",
       "      <td>3Foot7</td>\n",
       "      <td>10.174599</td>\n",
       "    </tr>\n",
       "    <tr>\n",
       "      <th>5</th>\n",
       "      <td>Linson Films</td>\n",
       "      <td>8.947905</td>\n",
       "    </tr>\n",
       "    <tr>\n",
       "      <th>6</th>\n",
       "      <td>Atman Entertainment</td>\n",
       "      <td>8.947905</td>\n",
       "    </tr>\n",
       "    <tr>\n",
       "      <th>7</th>\n",
       "      <td>Bristol Automotive</td>\n",
       "      <td>8.110711</td>\n",
       "    </tr>\n",
       "    <tr>\n",
       "      <th>8</th>\n",
       "      <td>Dayday Films</td>\n",
       "      <td>7.137273</td>\n",
       "    </tr>\n",
       "    <tr>\n",
       "      <th>9</th>\n",
       "      <td>Syncopy</td>\n",
       "      <td>7.050715</td>\n",
       "    </tr>\n",
       "  </tbody>\n",
       "</table>\n",
       "</div>"
      ],
      "text/plain": [
       "              company_name  average_popularity\n",
       "0        Bulletproof Cupid           14.311205\n",
       "1  Fuji Television Network           12.777401\n",
       "2           DefyNite Films           11.422751\n",
       "3    Truenorth Productions           11.173104\n",
       "4                   3Foot7           10.174599\n",
       "5             Linson Films            8.947905\n",
       "6      Atman Entertainment            8.947905\n",
       "7       Bristol Automotive            8.110711\n",
       "8             Dayday Films            7.137273\n",
       "9                  Syncopy            7.050715"
      ]
     },
     "execution_count": 35,
     "metadata": {},
     "output_type": "execute_result"
    }
   ],
   "source": [
    "# Sort by average_popularity, keep the best 10 (Drop the total_earnings column)\n",
    "uniqueCompanies_df.sort_values(by='average_popularity',ascending=False)[:10].reset_index().drop(columns='total_earnings')"
   ]
  },
  {
   "cell_type": "code",
   "execution_count": 63,
   "metadata": {},
   "outputs": [
    {
     "data": {
      "image/png": "[encoded data removed]",
      "text/plain": [
       "<Figure size 432x288 with 1 Axes>"
      ]
     },
     "metadata": {
      "needs_background": "light"
     },
     "output_type": "display_data"
    }
   ],
   "source": [
    "# Sort by average_popularity, keep the best 10, and plot the barh chart\n",
    "top10_companies = uniqueCompanies_df.sort_values(by='average_popularity',ascending=False).drop(columns='total_earnings')[:10]\n",
    "top10_companies[::-1].plot(kind='barh', title='Top 10 Popular Companies');plt.xlabel(\"popularity_score\");"
   ]
  },
  {
   "cell_type": "markdown",
   "metadata": {},
   "source": [
    "### Q5. Who are the top 10 actors with the top popluoarity movies in this dataset?"
   ]
  },
  {
   "cell_type": "markdown",
   "metadata": {},
   "source": [
    ">**Exactly the same steps of the previous question.**\n",
    "\n",
    ">**1- We choose the related featrues to the question (in this case: cast, and popularity.)  \n",
    "2- We drop NAN values with respect to our main featrue 'cast'.  \n",
    "3- We collect the unique values of the 'cast' in uniqueActors list and then we construct the uniqueActors_df dataframe.  \n",
    "4- The last step is to calculate the average popularities of the movies for each and every actor sepratly to see which ones are included in the Top 10 list.**"
   ]
  },
  {
   "cell_type": "code",
   "execution_count": 37,
   "metadata": {},
   "outputs": [],
   "source": [
    "# Choose the related featrues to the question which are: cast, and popularity.\n",
    "actor_df = df_movies.loc[:, ['popularity', 'cast']].copy()\n",
    "\n",
    "# Drop NAN values with respect to our main featrue 'cast'\n",
    "actor_df.dropna(axis=0, subset=['cast'], inplace=True)\n",
    "\n",
    "# Split the values of the cast from strings to lists\n",
    "actor_df['cast'] = actor_df['cast'].str.split('|')\n",
    "\n",
    "# Collect the unique values of the cast in uniqueActors list\n",
    "# I extract all the values from lists first than keep the unique ones\n",
    "uniqueActors = []\n",
    "for j in actor_df['cast'].values:\n",
    "    for i in j:\n",
    "        uniqueActors.append(i)\n",
    "uniqueActors = list(set(uniqueActors)) # To keep only the unique values in the list\n",
    "\n",
    "# Construct the uniqueActors_df dataframe.\n",
    "uniqueActors_df = pd.DataFrame(uniqueActors).rename(columns={0: 'actor_name'})\n",
    "uniqueActors_df['average_popularity'] = 0"
   ]
  },
  {
   "cell_type": "code",
   "execution_count": 38,
   "metadata": {},
   "outputs": [],
   "source": [
    "# Remaking the first 2 steps to Undo the splitting step of splitting strings into lists\n",
    "actor_df = df_movies.loc[:, ['popularity', 'cast']].copy()\n",
    "actor_df.dropna(axis=0, subset=['cast'], inplace=True) #Dropping NAN actors values\n",
    "uniqueActors_df.set_index('actor_name', inplace=True)\n",
    "\n",
    "# Iterate through unique actors and calculate average popularites\n",
    "for actor in uniqueActors:\n",
    "    matching = [i for i, s in enumerate(actor_df['cast'].str[:]) if actor in s]\n",
    "    uniqueActors_df.loc[actor, 'average_popularity'] = actor_df.iloc[matching, :]['popularity'].mean()"
   ]
  },
  {
   "cell_type": "markdown",
   "metadata": {},
   "source": [
    ">**Top 10 Actors in terms of popularity of their movies.**  \n",
    "**The top Actor is Josh Helman, the second is Daisy Ridley ...etc.**"
   ]
  },
  {
   "cell_type": "code",
   "execution_count": 39,
   "metadata": {},
   "outputs": [
    {
     "data": {
      "text/html": [
       "<div>\n",
       "<style scoped>\n",
       "    .dataframe tbody tr th:only-of-type {\n",
       "        vertical-align: middle;\n",
       "    }\n",
       "\n",
       "    .dataframe tbody tr th {\n",
       "        vertical-align: top;\n",
       "    }\n",
       "\n",
       "    .dataframe thead th {\n",
       "        text-align: right;\n",
       "    }\n",
       "</style>\n",
       "<table border=\"1\" class=\"dataframe\">\n",
       "  <thead>\n",
       "    <tr style=\"text-align: right;\">\n",
       "      <th></th>\n",
       "      <th>actor_name</th>\n",
       "      <th>average_popularity</th>\n",
       "    </tr>\n",
       "  </thead>\n",
       "  <tbody>\n",
       "    <tr>\n",
       "      <th>0</th>\n",
       "      <td>Josh Helman</td>\n",
       "      <td>28.419936</td>\n",
       "    </tr>\n",
       "    <tr>\n",
       "      <th>1</th>\n",
       "      <td>Daisy Ridley</td>\n",
       "      <td>11.173104</td>\n",
       "    </tr>\n",
       "    <tr>\n",
       "      <th>2</th>\n",
       "      <td>Hugh Keays-Byrne</td>\n",
       "      <td>10.211471</td>\n",
       "    </tr>\n",
       "    <tr>\n",
       "      <th>3</th>\n",
       "      <td>Daniel Henney</td>\n",
       "      <td>8.691294</td>\n",
       "    </tr>\n",
       "    <tr>\n",
       "      <th>4</th>\n",
       "      <td>Ryan Potter</td>\n",
       "      <td>8.691294</td>\n",
       "    </tr>\n",
       "    <tr>\n",
       "      <th>5</th>\n",
       "      <td>Brian Dobson</td>\n",
       "      <td>8.411577</td>\n",
       "    </tr>\n",
       "    <tr>\n",
       "      <th>6</th>\n",
       "      <td>Gloria Foster</td>\n",
       "      <td>7.753899</td>\n",
       "    </tr>\n",
       "    <tr>\n",
       "      <th>7</th>\n",
       "      <td>Ansel Elgort</td>\n",
       "      <td>7.703183</td>\n",
       "    </tr>\n",
       "    <tr>\n",
       "      <th>8</th>\n",
       "      <td>Ki Hong Lee</td>\n",
       "      <td>7.137273</td>\n",
       "    </tr>\n",
       "    <tr>\n",
       "      <th>9</th>\n",
       "      <td>Blake Cooper</td>\n",
       "      <td>7.137273</td>\n",
       "    </tr>\n",
       "  </tbody>\n",
       "</table>\n",
       "</div>"
      ],
      "text/plain": [
       "         actor_name  average_popularity\n",
       "0       Josh Helman           28.419936\n",
       "1      Daisy Ridley           11.173104\n",
       "2  Hugh Keays-Byrne           10.211471\n",
       "3     Daniel Henney            8.691294\n",
       "4       Ryan Potter            8.691294\n",
       "5      Brian Dobson            8.411577\n",
       "6     Gloria Foster            7.753899\n",
       "7      Ansel Elgort            7.703183\n",
       "8       Ki Hong Lee            7.137273\n",
       "9      Blake Cooper            7.137273"
      ]
     },
     "execution_count": 39,
     "metadata": {},
     "output_type": "execute_result"
    }
   ],
   "source": [
    "# Sort by average_popularity, keep the best 10\n",
    "uniqueActors_df.sort_values(by='average_popularity',ascending=False)[:10].reset_index()"
   ]
  },
  {
   "cell_type": "code",
   "execution_count": 60,
   "metadata": {},
   "outputs": [
    {
     "data": {
      "image/png": "[encoded data removed]",
      "text/plain": [
       "<Figure size 432x288 with 1 Axes>"
      ]
     },
     "metadata": {
      "needs_background": "light"
     },
     "output_type": "display_data"
    }
   ],
   "source": [
    "# Sort by average_popularity, keep the best 10, and plot the barh chart\n",
    "top10_actors = uniqueActors_df.sort_values(by='average_popularity',ascending=False)[:10]\n",
    "top10_actors[::-1].plot(kind='barh', title='Top 10 Popular Actors');plt.xlabel(\"popularity_score\");"
   ]
  },
  {
   "cell_type": "markdown",
   "metadata": {},
   "source": [
    "### Q6. Who are the top 10 directors with the top popuolarity movies in this dataset?"
   ]
  },
  {
   "cell_type": "markdown",
   "metadata": {},
   "source": [
    ">**Exactly the same steps of the previous 2 question.**\n",
    "\n",
    ">**1- We choose the related featrues to the question (in this case: director, and popularity.)  \n",
    "2- We drop NAN values with respect to our main featrue 'director'.  \n",
    "3- We collect the unique values of the 'director' in uniqueDirectors list and then we construct the uniqueDirectors_df dataframe.  \n",
    "4- The last step is to calculate the average popularities of the movies for each and every director sepratly to see which ones are included in the Top 10 list.**"
   ]
  },
  {
   "cell_type": "code",
   "execution_count": 41,
   "metadata": {},
   "outputs": [],
   "source": [
    "# Choose the related featrues to the question which are: director, and popularity.\n",
    "director_df = df_movies.loc[:, ['popularity', 'director']].copy()\n",
    "\n",
    "# Drop NAN values with respect to our main featrue 'director'\n",
    "director_df.dropna(axis=0, subset=['director'], inplace=True) #Dropping NAN companies values\n",
    "\n",
    "# Split the values of the director from strings to lists\n",
    "director_df['director'] = director_df['director'].str.split('|')\n",
    "\n",
    "# Collect the unique values of the director in uniqueDirectors list\n",
    "# I extract all the values from lists first than keep the unique ones\n",
    "uniqueDirectors = []\n",
    "for j in director_df['director'].values:\n",
    "    for i in j:\n",
    "        uniqueDirectors.append(i)\n",
    "uniqueDirectors = list(set(uniqueDirectors)) # To keep only the unique values in the list\n",
    "\n",
    "# Construct the uniqueDirectors_df dataframe.\n",
    "uniqueDirectors_df = pd.DataFrame(uniqueDirectors).rename(columns={0: 'director_name'})\n",
    "uniqueDirectors_df['average_popularity'] = 0"
   ]
  },
  {
   "cell_type": "code",
   "execution_count": 42,
   "metadata": {},
   "outputs": [],
   "source": [
    "# Remaking the first 2 steps to Undo the splitting step of splitting strings into lists\n",
    "director_df = df_movies.loc[:, ['popularity', 'director']].copy()\n",
    "director_df.dropna(axis=0, subset=['director'], inplace=True) #Dropping NAN directors values\n",
    "uniqueDirectors_df.set_index('director_name', inplace=True)\n",
    "\n",
    "# Iterate through unique directors and calculate average popularites\n",
    "for director in uniqueDirectors:\n",
    "    matching = [i for i, s in enumerate(director_df['director'].str[:]) if director in s]\n",
    "    uniqueDirectors_df.loc[director, 'average_popularity'] = director_df.iloc[matching, :]['popularity'].mean()"
   ]
  },
  {
   "cell_type": "markdown",
   "metadata": {},
   "source": [
    ">**Top 10 Directors in terms of popularity of their movies.**  \n",
    "**The top Director is Josh Helman, the second is Daisy Ridley ...etc.**"
   ]
  },
  {
   "cell_type": "code",
   "execution_count": 43,
   "metadata": {},
   "outputs": [
    {
     "data": {
      "text/html": [
       "<div>\n",
       "<style scoped>\n",
       "    .dataframe tbody tr th:only-of-type {\n",
       "        vertical-align: middle;\n",
       "    }\n",
       "\n",
       "    .dataframe tbody tr th {\n",
       "        vertical-align: top;\n",
       "    }\n",
       "\n",
       "    .dataframe thead th {\n",
       "        text-align: right;\n",
       "    }\n",
       "</style>\n",
       "<table border=\"1\" class=\"dataframe\">\n",
       "  <thead>\n",
       "    <tr style=\"text-align: right;\">\n",
       "      <th></th>\n",
       "      <th>director_name</th>\n",
       "      <th>average_popularity</th>\n",
       "    </tr>\n",
       "  </thead>\n",
       "  <tbody>\n",
       "    <tr>\n",
       "      <th>0</th>\n",
       "      <td>Colin Trevorrow</td>\n",
       "      <td>16.696886</td>\n",
       "    </tr>\n",
       "    <tr>\n",
       "      <th>1</th>\n",
       "      <td>David Leitch</td>\n",
       "      <td>11.422751</td>\n",
       "    </tr>\n",
       "    <tr>\n",
       "      <th>2</th>\n",
       "      <td>Chad Stahelski</td>\n",
       "      <td>11.422751</td>\n",
       "    </tr>\n",
       "    <tr>\n",
       "      <th>3</th>\n",
       "      <td>Juno John Lee</td>\n",
       "      <td>8.411577</td>\n",
       "    </tr>\n",
       "    <tr>\n",
       "      <th>4</th>\n",
       "      <td>Alan Taylor</td>\n",
       "      <td>6.883129</td>\n",
       "    </tr>\n",
       "    <tr>\n",
       "      <th>5</th>\n",
       "      <td>Peter Richardson</td>\n",
       "      <td>6.668990</td>\n",
       "    </tr>\n",
       "    <tr>\n",
       "      <th>6</th>\n",
       "      <td>Christopher Nolan</td>\n",
       "      <td>6.195521</td>\n",
       "    </tr>\n",
       "    <tr>\n",
       "      <th>7</th>\n",
       "      <td>Alex Garland</td>\n",
       "      <td>6.118847</td>\n",
       "    </tr>\n",
       "    <tr>\n",
       "      <th>8</th>\n",
       "      <td>Patrick Tatopoulos</td>\n",
       "      <td>5.806897</td>\n",
       "    </tr>\n",
       "    <tr>\n",
       "      <th>9</th>\n",
       "      <td>Wes Ball</td>\n",
       "      <td>5.553082</td>\n",
       "    </tr>\n",
       "  </tbody>\n",
       "</table>\n",
       "</div>"
      ],
      "text/plain": [
       "        director_name  average_popularity\n",
       "0     Colin Trevorrow           16.696886\n",
       "1        David Leitch           11.422751\n",
       "2      Chad Stahelski           11.422751\n",
       "3       Juno John Lee            8.411577\n",
       "4         Alan Taylor            6.883129\n",
       "5    Peter Richardson            6.668990\n",
       "6   Christopher Nolan            6.195521\n",
       "7        Alex Garland            6.118847\n",
       "8  Patrick Tatopoulos            5.806897\n",
       "9            Wes Ball            5.553082"
      ]
     },
     "execution_count": 43,
     "metadata": {},
     "output_type": "execute_result"
    }
   ],
   "source": [
    "# Sort by average_popularity, keep the best 10\n",
    "uniqueDirectors_df.sort_values(by='average_popularity',ascending=False)[:10].reset_index()"
   ]
  },
  {
   "cell_type": "code",
   "execution_count": 62,
   "metadata": {},
   "outputs": [
    {
     "data": {
      "image/png": "[encoded data removed]",
      "text/plain": [
       "<Figure size 432x288 with 1 Axes>"
      ]
     },
     "metadata": {
      "needs_background": "light"
     },
     "output_type": "display_data"
    }
   ],
   "source": [
    "# Sort by average_popularity, keep the best 10, and plot the barh chart\n",
    "top10_directors = uniqueDirectors_df.sort_values(by='average_popularity',ascending=False)[:10]\n",
    "top10_directors[::-1].plot(kind='barh', title='Top 10 Popular Directors');plt.xlabel(\"popularity_score\");"
   ]
  },
  {
   "cell_type": "markdown",
   "metadata": {},
   "source": [
    "## The next 2 questions are simple but intuative, as anyone could ask these questions with a dataset like this"
   ]
  },
  {
   "cell_type": "markdown",
   "metadata": {},
   "source": [
    "### Q7. Top 10 movies in terms of earnings"
   ]
  },
  {
   "cell_type": "markdown",
   "metadata": {},
   "source": [
    ">**The answer to this question is simplly to calculate earnings (revenue-budget,) then sort the values by them and visualize it. However, for this partucallur question, I will use the original budget/revenue features not the adj-features. I believe this an abstract question that should be answered with the real numbers not with estimated numbers.**"
   ]
  },
  {
   "cell_type": "code",
   "execution_count": 66,
   "metadata": {},
   "outputs": [
    {
     "data": {
      "image/png": "[encoded data removed]",
      "text/plain": [
       "<Figure size 432x288 with 1 Axes>"
      ]
     },
     "metadata": {
      "needs_background": "light"
     },
     "output_type": "display_data"
    }
   ],
   "source": [
    "# Take a copy of the original df_movies data frame\n",
    "top10_movies_df = original_df_movies.copy()\n",
    "\n",
    "# Extract the revenue/ budget features to calculate the earnings of each movie\n",
    "top10_movies_df['earnings'] = np.array(top10_movies_df['revenue']) - np.array(top10_movies_df['budget'])\n",
    "\n",
    "# Extract important featrues (Title, earnings,) and sort values by earnings and take the best 10\n",
    "top10_movies = top10_movies_df[['original_title', 'earnings']].sort_values(\n",
    "    by='earnings',ascending=False).set_index('original_title')[:10]\n",
    "\n",
    "# Plot the barh chart\n",
    "top10_movies[::-1].plot(kind='barh', title='Top 10 Movies in terms of Earnings');plt.xlabel(\"Total Earnings\");"
   ]
  },
  {
   "cell_type": "markdown",
   "metadata": {},
   "source": [
    ">**This is the answer if we used the adj-features**"
   ]
  },
  {
   "cell_type": "code",
   "execution_count": 67,
   "metadata": {},
   "outputs": [
    {
     "data": {
      "image/png": "[encoded data removed]",
      "text/plain": [
       "<Figure size 432x288 with 1 Axes>"
      ]
     },
     "metadata": {
      "needs_background": "light"
     },
     "output_type": "display_data"
    }
   ],
   "source": [
    "# Take a copy of the df_movies data frame\n",
    "top10_movies_df = df_movies.copy()\n",
    "\n",
    "# Extract the revenue_adj/ budget_adj features to calculate the earnings of each movie\n",
    "top10_movies_df['earnings'] = np.array(top10_movies_df['revenue_adj']) - np.array(top10_movies_df['budget_adj'])\n",
    "\n",
    "# Extract important featrues (Title, earnings,) and sort values by earnings and take the best 10\n",
    "top10_movies = top10_movies_df[['original_title', 'earnings']].sort_values(\n",
    "    by='earnings',ascending=False).set_index('original_title')[:10]\n",
    "\n",
    "# Plot the barh chart\n",
    "top10_movies[::-1].plot(kind='barh', title='Top 10 Movies in terms of adj_Earnings');plt.xlabel(\"Total Earnings\");"
   ]
  },
  {
   "cell_type": "markdown",
   "metadata": {},
   "source": [
    "### Q8. Which release year with the best movies in terms of popularites?"
   ]
  },
  {
   "cell_type": "markdown",
   "metadata": {},
   "source": [
    ">**The answer to this question is to groupby the release_year then sort the values by popularity and visualize it**"
   ]
  },
  {
   "cell_type": "code",
   "execution_count": 71,
   "metadata": {},
   "outputs": [
    {
     "data": {
      "image/png": "[encoded data removed]",
      "text/plain": [
       "<Figure size 432x288 with 1 Axes>"
      ]
     },
     "metadata": {
      "needs_background": "light"
     },
     "output_type": "display_data"
    }
   ],
   "source": [
    "# Take a copy of the df_movies data frame\n",
    "top10_years_df = df_movies.copy()\n",
    "\n",
    "# Group movies by release year, and calculate the average popularity for every year\n",
    "# Then sort values by there average popularity score and take the best 10\n",
    "top10_years_df = top10_movies_df.groupby('release_year')[['popularity']].mean().sort_values(\n",
    "    by='popularity',ascending=False)[:10]\n",
    "\n",
    "# Plot the barh chart\n",
    "top10_years_df[::-1].plot(kind='barh', title='Top 10 Release Years in terms of Popularity of Movies');\n",
    "plt.xlabel(\"Popularity Score\");"
   ]
  },
  {
   "cell_type": "markdown",
   "metadata": {},
   "source": [
    "<a id='conclusions'></a>\n",
    "## Conclusions\n",
    "\n",
    "> **The dataset was so intresting and has a lot of information. and here's some notes from the findings of every question we answered:** \n",
    "\n",
    ">**Q1: Some genres were so popular in the past and its popularity decreased, and vise versa.  \n",
    "Q2: Studying compinations of genres give us a deeper look into the popularity of the movies.  \n",
    "Q3: High vote_count, budget, and popularity are generally associated with high revenue.  \n",
    "Q4: We knew which are the Top 10 production companies in the industry.  \n",
    "Q5: We knew which are the Top 10 popular actors in this data set.  \n",
    "Q6: We knew which are the Top 10 popular directors in this data set.  \n",
    "Q7: Avatar Movie has the higher earnings untill the year 2015.  \n",
    "Q8: The years 2015, 2014 had the best and the most popular movies in this data set.**\n",
    "\n",
    "\n",
    "### Limitations\n",
    "\n",
    "> **We finally need to address some of the limitations we faced in our analysis, as those impliy some uncertainty of the results.  \n",
    "1- First, we are just work with a sample of the TMBD dataset form Kaggle, so maybe a different sample may lead to different results.  \n",
    "2- I found many issues and missing values during my explortation such as: (movies with zero budget, and revenues; movies without cast, directors, production companies.)  \n",
    "3- The lack of discription as I really didn't understand how the popularity score was calculated in the first place, and whether should I gone with my exploration depending on the vote average.  \n",
    "4- some other uneeded features that I don't know why they even exists like homepage, and what is the difference between some other featrues like tagline and keywords, so I just dropped them.  \n",
    "5- There was no statistical inference performed in my analysis (to test the significance of the results that you found.) So yeah that also applies some uncertainty of the results.**\n",
    "\n",
    "> **I hope you enjoyed these findings, and Thank you.**"
   ]
  },
  {
   "cell_type": "markdown",
   "metadata": {},
   "source": [
    "<a id='conclusions'></a>\n",
    "## Resources\n",
    "> Stackoverflow"
   ]
  }
 ],
 "metadata": {
  "kernelspec": {
   "display_name": "Python 3",
   "language": "python",
   "name": "python3"
  },
  "language_info": {
   "codemirror_mode": {
    "name": "ipython",
    "version": 3
   },
   "file_extension": ".py",
   "mimetype": "text/x-python",
   "name": "python",
   "nbconvert_exporter": "python",
   "pygments_lexer": "ipython3",
   "version": "3.7.3"
  }
 },
 "nbformat": 4,
 "nbformat_minor": 2
}
